{
 "cells": [
  {
   "cell_type": "code",
   "execution_count": null,
   "id": "f3c790fe",
   "metadata": {},
   "outputs": [],
   "source": [
    "import numpy as np\n",
    "import pandas as pd\n",
    "\n",
    "import matplotlib.pyplot as plt\n",
    "%matplotlib inline"
   ]
  },
  {
   "cell_type": "markdown",
   "id": "4dae8219",
   "metadata": {},
   "source": [
    "## Matplot Demo"
   ]
  },
  {
   "cell_type": "code",
   "execution_count": null,
   "id": "32f74efa",
   "metadata": {},
   "outputs": [],
   "source": [
    "# create some random data\n",
    "x = np.random.randn(100)\n",
    "rand_array = np.random.randn(100)\n",
    "print(type(rand_array))\n",
    "print(rand_array.shape)\n",
    "y = 3 * x + rand_array\n",
    "y"
   ]
  },
  {
   "cell_type": "code",
   "execution_count": null,
   "id": "91d1513a",
   "metadata": {},
   "outputs": [],
   "source": [
    "plt.scatter(x,y) #v matplotlib scatter"
   ]
  },
  {
   "cell_type": "code",
   "execution_count": null,
   "id": "9a8ab0a9",
   "metadata": {},
   "outputs": [],
   "source": [
    "# matplotlib plot\n",
    "T = np.array([6, 7, 8, 9, 10, 11, 12])\n",
    "power = np.array([1.53E+03, 5.92E+02, 2.04E+02, 7.24E+01, 2.72E+01, 1.10E+01, 4.70E+00])\n",
    "\n",
    "plt.plot(T,power)\n",
    "plt.show()"
   ]
  },
  {
   "cell_type": "code",
   "execution_count": null,
   "id": "932a59ff",
   "metadata": {},
   "outputs": [],
   "source": [
    "\n",
    "from scipy.interpolate import make_interp_spline, BSpline\n",
    "# 300 represents number of points to make between T.min and T.max\n",
    "xnew = np.linspace(T.min(), T.max(), 300) \n",
    "\n",
    "spl = make_interp_spline(T, power, k=3)  # type: BSpline\n",
    "power_smooth = spl(xnew)\n",
    "\n",
    "plt.plot(xnew, power_smooth)\n",
    "plt.show()"
   ]
  }
 ],
 "metadata": {
  "kernelspec": {
   "display_name": "Python 3",
   "language": "python",
   "name": "python3"
  },
  "language_info": {
   "codemirror_mode": {
    "name": "ipython",
    "version": 3
   },
   "file_extension": ".py",
   "mimetype": "text/x-python",
   "name": "python",
   "nbconvert_exporter": "python",
   "pygments_lexer": "ipython3",
   "version": "3.8.8"
  }
 },
 "nbformat": 4,
 "nbformat_minor": 5
}
