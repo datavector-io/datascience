{
 "cells": [
  {
   "cell_type": "code",
   "execution_count": null,
   "id": "f3c790fe",
   "metadata": {},
   "outputs": [],
   "source": [
    "import numpy as np\n",
    "import pandas as pd\n",
    "\n",
    "import matplotlib.pyplot as plt\n",
    "%matplotlib inline"
   ]
  },
  {
   "cell_type": "markdown",
   "id": "5f5fb499",
   "metadata": {},
   "source": [
    "## Load a local csv using Pandas\n",
    "\n",
    "#### NOTE: Loading a local CSV wont work if this notebook is run on Colab. Instead the csv is loaded directly from github. Alternatively iris is also bundled in seaborn and sklearn packages. It can be loaded from there. 02-Iris-Dataset_Analysis demonstrates loading from seaborn package"
   ]
  },
  {
   "cell_type": "code",
   "execution_count": null,
   "id": "7da0da0f",
   "metadata": {},
   "outputs": [],
   "source": [
    "#iris = pd.read_csv('iris.data') # This works only locally\n",
    "iris = pd.read_csv(\"https://raw.githubusercontent.com/datavector-io/datascience/main/01-Data Visualization Basics/housing.data\")\n",
    "iris.head()"
   ]
  },
  {
   "cell_type": "code",
   "execution_count": null,
   "id": "7117ee0d",
   "metadata": {},
   "outputs": [],
   "source": [
    "iris = pd.read_csv('iris.data', header=None)\n",
    "iris.head()"
   ]
  },
  {
   "cell_type": "code",
   "execution_count": null,
   "id": "7876887d",
   "metadata": {},
   "outputs": [],
   "source": [
    "# Assign col header names\n",
    "col_names = [ 'sepal_length', 'sepal_width', 'petal_length', 'petal_width', 'species' ]\n",
    "iris.columns = col_names\n",
    "iris.head()"
   ]
  },
  {
   "cell_type": "code",
   "execution_count": null,
   "id": "35069eca",
   "metadata": {},
   "outputs": [],
   "source": [
    "iris.info()"
   ]
  },
  {
   "cell_type": "code",
   "execution_count": null,
   "id": "7dc348d4",
   "metadata": {},
   "outputs": [],
   "source": [
    "iris.describe()"
   ]
  },
  {
   "cell_type": "code",
   "execution_count": null,
   "id": "f057d692",
   "metadata": {},
   "outputs": [],
   "source": [
    "iris.groupby('species').size() # Pandas provides a nice group by (More on this in pandas module in pylearn)"
   ]
  },
  {
   "cell_type": "code",
   "execution_count": null,
   "id": "b8cb1a60",
   "metadata": {},
   "outputs": [],
   "source": [
    "# Covariance matrix (This is visualized by scatter matrix below. \n",
    "# but a better option for visualization is seaborn hued poair plot + heatmap)\n",
    "iris.corr() "
   ]
  },
  {
   "cell_type": "markdown",
   "id": "87b85e58",
   "metadata": {},
   "source": [
    "## Visualization directly from Pandas\n",
    "\n",
    "4 Types of visualization are possible directly from pandas\n",
    "1. Histogram\n",
    "2. Box Plot\n",
    "3. Grouped Box Plot\n",
    "4. Individual Scatter Plot invoked from within Pandas\n",
    "5. Scatter Matrix (somewhat similar to correlation/covariance matrix)"
   ]
  },
  {
   "cell_type": "markdown",
   "id": "7c050cba",
   "metadata": {},
   "source": [
    "### 1. Historgram"
   ]
  },
  {
   "cell_type": "code",
   "execution_count": null,
   "id": "26a027d1",
   "metadata": {},
   "outputs": [],
   "source": [
    "iris.hist(edgecolor='black', linewidth=1.2, figsize=(12,8))\n",
    "plt.show()"
   ]
  },
  {
   "cell_type": "markdown",
   "id": "37229d51",
   "metadata": {},
   "source": [
    "### 2. Box Plot - Ungrouped"
   ]
  },
  {
   "cell_type": "code",
   "execution_count": null,
   "id": "787fbc73",
   "metadata": {},
   "outputs": [],
   "source": [
    "iris.boxplot(figsize=(12,8))"
   ]
  },
  {
   "cell_type": "markdown",
   "id": "6139d0eb",
   "metadata": {},
   "source": [
    "### 3. Box Plot - Grouped"
   ]
  },
  {
   "cell_type": "code",
   "execution_count": null,
   "id": "65ee78d4",
   "metadata": {},
   "outputs": [],
   "source": [
    "iris.boxplot(by='species', figsize=(12,8))"
   ]
  },
  {
   "cell_type": "markdown",
   "id": "7f05a598",
   "metadata": {},
   "source": [
    "### 4. Individual Scatter Plot"
   ]
  },
  {
   "cell_type": "code",
   "execution_count": null,
   "id": "18e49f0e",
   "metadata": {},
   "outputs": [],
   "source": [
    "iris.plot.scatter(x=\"sepal_length\", y=\"sepal_width\")"
   ]
  },
  {
   "cell_type": "markdown",
   "id": "8347fdb7",
   "metadata": {},
   "source": [
    "### 5. Scatter Matrix"
   ]
  },
  {
   "cell_type": "code",
   "execution_count": null,
   "id": "3983ed12",
   "metadata": {},
   "outputs": [],
   "source": [
    "pd.plotting.scatter_matrix(iris, figsize=(16,10))\n",
    "plt.show()"
   ]
  }
 ],
 "metadata": {
  "kernelspec": {
   "display_name": "Python 3",
   "language": "python",
   "name": "python3"
  },
  "language_info": {
   "codemirror_mode": {
    "name": "ipython",
    "version": 3
   },
   "file_extension": ".py",
   "mimetype": "text/x-python",
   "name": "python",
   "nbconvert_exporter": "python",
   "pygments_lexer": "ipython3",
   "version": "3.8.8"
  }
 },
 "nbformat": 4,
 "nbformat_minor": 5
}
