{
 "cells": [
  {
   "cell_type": "markdown",
   "id": "4dae8219",
   "metadata": {},
   "source": [
    "# Visualization Intro\n",
    "\n",
    "3+ libraries are used for Visualization\n",
    "1. Matplotlib (.pyplot) - Basic\n",
    "2. Seaborn - Advanced and colorful plots\n",
    "3. Bokeh or plotly for interactive plots\n",
    "\n",
    "\n",
    "Sometimes matplotlib is invoked from within Pandas which is very convenient"
   ]
  }
 ],
 "metadata": {
  "kernelspec": {
   "display_name": "Python 3",
   "language": "python",
   "name": "python3"
  },
  "language_info": {
   "codemirror_mode": {
    "name": "ipython",
    "version": 3
   },
   "file_extension": ".py",
   "mimetype": "text/x-python",
   "name": "python",
   "nbconvert_exporter": "python",
   "pygments_lexer": "ipython3",
   "version": "3.8.8"
  }
 },
 "nbformat": 4,
 "nbformat_minor": 5
}
