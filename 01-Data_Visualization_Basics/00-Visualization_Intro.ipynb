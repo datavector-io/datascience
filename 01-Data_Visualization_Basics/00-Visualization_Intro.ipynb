{
 "cells": [
  {
   "cell_type": "markdown",
   "id": "4dae8219",
   "metadata": {},
   "source": [
    "# Visualization Intro\n",
    "\n",
    "Following libraries are used for Visualization\n",
    "1. Matplotlib (.pyplot) - Basic\n",
    "2. Sometimes matplotlib is invoked from within Pandas which is very convenient\n",
    "3. Seaborn - Advanced and colorful plots\n",
    "4. Geographic data with Basemap\n",
    "5. Bokeh or plotly for interactive plots\n",
    "\n",
    "\n",
    "Reference: \n",
    "1. https://learning.oreilly.com/library/view/python-data-science/9781491912126/\n",
    "2. Also available freely from author at: https://jakevdp.github.io/PythonDataScienceHandbook/index.html"
   ]
  },
  {
   "cell_type": "code",
   "execution_count": null,
   "id": "0d3f5eb7",
   "metadata": {},
   "outputs": [],
   "source": []
  }
 ],
 "metadata": {
  "kernelspec": {
   "display_name": "Python 3",
   "language": "python",
   "name": "python3"
  },
  "language_info": {
   "codemirror_mode": {
    "name": "ipython",
    "version": 3
   },
   "file_extension": ".py",
   "mimetype": "text/x-python",
   "name": "python",
   "nbconvert_exporter": "python",
   "pygments_lexer": "ipython3",
   "version": "3.8.8"
  }
 },
 "nbformat": 4,
 "nbformat_minor": 5
}
