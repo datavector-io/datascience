{
 "cells": [
  {
   "cell_type": "code",
   "execution_count": null,
   "id": "f3c790fe",
   "metadata": {},
   "outputs": [],
   "source": [
    "import numpy as np\n",
    "import pandas as pd\n",
    "\n",
    "import matplotlib as mpl\n",
    "import matplotlib.pyplot as plt\n",
    "\n",
    "#for showing plots without calling plt.show()\n",
    "%matplotlib inline\n",
    "\n",
    "# https://matplotlib.org/stable/api/\n",
    "# https://matplotlib.org/stable/tutorials/index.html"
   ]
  },
  {
   "cell_type": "markdown",
   "id": "3717b271",
   "metadata": {},
   "source": [
    "# 1. Plotting Types\n",
    "\n",
    "Two types of plotting are used with Matplotlib\n",
    "\n",
    "1. Pyplot Functional Interface\n",
    "2. Object Oriented Interface"
   ]
  },
  {
   "cell_type": "code",
   "execution_count": null,
   "id": "e7c1f8b0",
   "metadata": {},
   "outputs": [],
   "source": [
    "# Here we create data for x and y as python list. \n",
    "# But both plt and sns can take numpy array vector, pytorch tensors etc.\n",
    "x = [1, 2, 4, 6, 8]\n",
    "y = [2, 4, 6, 12, 16]"
   ]
  },
  {
   "cell_type": "markdown",
   "id": "3172f351",
   "metadata": {},
   "source": [
    "## 1.1 Pyplot Functional Interface"
   ]
  },
  {
   "cell_type": "code",
   "execution_count": null,
   "id": "e0d507fe",
   "metadata": {},
   "outputs": [],
   "source": [
    "# plt interface\n",
    "plt.plot(x,y)"
   ]
  },
  {
   "cell_type": "markdown",
   "id": "70715f32",
   "metadata": {},
   "source": [
    "## 1.2 Object Oriented interface"
   ]
  },
  {
   "cell_type": "code",
   "execution_count": null,
   "id": "41ff95c1",
   "metadata": {},
   "outputs": [],
   "source": [
    "# object-oriented interface. this will be used more as get advanced\n",
    "fig, ax = plt.subplots()  # Create a figure containing a single axes\n",
    "ax.plot(x, y) # Plot some data on the axes"
   ]
  },
  {
   "cell_type": "markdown",
   "id": "80e15822",
   "metadata": {},
   "source": [
    "# 2. Basic plotting and Elementary Customization"
   ]
  },
  {
   "cell_type": "code",
   "execution_count": null,
   "id": "cd14ae73",
   "metadata": {},
   "outputs": [],
   "source": [
    "a = np.linspace(0,10,1000)\n",
    "b = np.sin(a)\n",
    "plt.plot(a,b)"
   ]
  },
  {
   "cell_type": "code",
   "execution_count": null,
   "id": "64c7ce00",
   "metadata": {},
   "outputs": [],
   "source": [
    "# Multiple plots in same figure. Colors are picked automatically by Matplotlib\n",
    "a = np.linspace(0,10,1000)\n",
    "\n",
    "b1 = np.sin(a)\n",
    "b2 = np.cos(a)\n",
    "b3 = b1+b2\n",
    "\n",
    "plt.plot(a,b1)\n",
    "plt.plot(a,b2)\n",
    "plt.plot(a,b3)"
   ]
  },
  {
   "cell_type": "markdown",
   "id": "8fedf856",
   "metadata": {},
   "source": [
    "### Note: Different types of elementary customizations\n",
    "\n",
    "Inline customization per plot - Passed as params to plt.plot() function)\n",
    "1. color\n",
    "2. line style\n",
    "\n",
    "Customization per interaction / for a Cell strictly speaking - set by invoking plt.setXYZ\n",
    "1. x and y limit\n",
    "2. figure size\n",
    "\n",
    "Global customizations - once set this impacts all further plots (VERY IMP).\n",
    "1. Plot style"
   ]
  },
  {
   "cell_type": "markdown",
   "id": "ce5ca2d8",
   "metadata": {},
   "source": [
    "## 2.1 Inline customization"
   ]
  },
  {
   "cell_type": "markdown",
   "id": "10197959",
   "metadata": {},
   "source": [
    "### 2.1.1 Line color"
   ]
  },
  {
   "cell_type": "code",
   "execution_count": null,
   "id": "bd92a353",
   "metadata": {},
   "outputs": [],
   "source": [
    "# NOTE: color attribute is specified in 3 different ways\n",
    "plt.plot(a,b1,color='blue')\n",
    "plt.plot(a,b2,color='g')\n",
    "plt.plot(a,b3,color=(0.5,0.2,0.4))"
   ]
  },
  {
   "cell_type": "markdown",
   "id": "e3a83db5",
   "metadata": {},
   "source": [
    "### 2.1.2 Line Style"
   ]
  },
  {
   "cell_type": "code",
   "execution_count": null,
   "id": "91ad440e",
   "metadata": {},
   "outputs": [],
   "source": [
    "# NOTE: line style is 3rd positional attribute. \n",
    "# But instead of remembering this, better to use named attribute as in next example\n",
    "plt.plot(a,b1,'-.k')\n",
    "plt.plot(a,b2,':g')\n",
    "plt.plot(a,b3,'--r')"
   ]
  },
  {
   "cell_type": "code",
   "execution_count": null,
   "id": "6257ac74",
   "metadata": {},
   "outputs": [],
   "source": [
    "# 2 named attributes linestyle and color are provided\n",
    "plt.plot(a,b,linestyle='-.',color='green')"
   ]
  },
  {
   "cell_type": "markdown",
   "id": "b57a24b2",
   "metadata": {},
   "source": [
    "## 2.2 Per Cell Customization"
   ]
  },
  {
   "cell_type": "markdown",
   "id": "1d848784",
   "metadata": {},
   "source": [
    "### 2.2.1 X Y Plot Range"
   ]
  },
  {
   "cell_type": "code",
   "execution_count": null,
   "id": "ebb260a0",
   "metadata": {},
   "outputs": [],
   "source": [
    "plt.plot(a,b1,'-.k')\n",
    "plt.plot(a,b2,':g')\n",
    "plt.plot(a,b3,'--r')\n",
    "\n",
    "plt.xlim(-5,15)\n",
    "plt.ylim(-3,2.5)"
   ]
  },
  {
   "cell_type": "markdown",
   "id": "05560f01",
   "metadata": {},
   "source": [
    "### 2.2.2 Figure Size "
   ]
  },
  {
   "cell_type": "code",
   "execution_count": null,
   "id": "9c8a8fb7",
   "metadata": {},
   "outputs": [],
   "source": [
    "plt.figure(figsize=(8,8))\n",
    "plt.plot(a,b)"
   ]
  },
  {
   "cell_type": "code",
   "execution_count": null,
   "id": "43608ffa",
   "metadata": {},
   "outputs": [],
   "source": [
    "# Note subsequent plots revert to original figure size\n",
    "plt.plot(a,b)"
   ]
  },
  {
   "cell_type": "markdown",
   "id": "5390073b",
   "metadata": {},
   "source": [
    "## 2.3 Global Customization"
   ]
  },
  {
   "cell_type": "markdown",
   "id": "127148c7",
   "metadata": {},
   "source": [
    "### 2.3.1 Precaution: Make a copy default config before global customization \n",
    "\n",
    "Apart from above customizations, other customizations such as plot style etc. change the global default. It is best to store a copy of the default params before further customization.\n",
    "This is done differently in Jupyter and normal Python"
   ]
  },
  {
   "cell_type": "code",
   "execution_count": null,
   "id": "acb38de9",
   "metadata": {},
   "outputs": [],
   "source": [
    "# This works in normal python but not in Jupyter\n",
    "# mpl.rcParams.update(mpl.rcParamsDefault)\n",
    "\n",
    "# Run these lines For Jupyter to reset\n",
    "default_config = dict(mpl.rcParams)\n",
    "mpl.rcParams.update(default_config)"
   ]
  },
  {
   "cell_type": "markdown",
   "id": "0ac188b1",
   "metadata": {},
   "source": [
    "### 2.3.2 Check available styles and choose"
   ]
  },
  {
   "cell_type": "code",
   "execution_count": null,
   "id": "c74622b2",
   "metadata": {},
   "outputs": [],
   "source": [
    "# check available styles in plt\n",
    "print(plt.style.available)"
   ]
  },
  {
   "cell_type": "code",
   "execution_count": null,
   "id": "4094dea5",
   "metadata": {},
   "outputs": [],
   "source": [
    "plt.style.use('classic') # Pick one style\n",
    "\n",
    "fig = plt.figure() # Build a empty figure\n",
    "\n",
    "ax = plt.axes() # watch how both ax and fig can be obtained in a single subplots() call in previous example"
   ]
  },
  {
   "cell_type": "code",
   "execution_count": null,
   "id": "e476cf91",
   "metadata": {},
   "outputs": [],
   "source": [
    "plt.style.use('seaborn-whitegrid') #now the style has changed\n",
    "fig = plt.figure()\n",
    "ax = plt.axes()"
   ]
  },
  {
   "cell_type": "code",
   "execution_count": null,
   "id": "40875037",
   "metadata": {},
   "outputs": [],
   "source": [
    "# Plotting now impacts the grid style\n",
    "plt.plot(a,b)"
   ]
  },
  {
   "cell_type": "code",
   "execution_count": null,
   "id": "1d4139a8",
   "metadata": {},
   "outputs": [],
   "source": [
    "#Reset style\n",
    "mpl.rcParams.update(default_config)"
   ]
  },
  {
   "cell_type": "code",
   "execution_count": null,
   "id": "c424f0ee",
   "metadata": {},
   "outputs": [],
   "source": [
    "#Plot again. Notice the style has defaulted to original\n",
    "plt.plot(a,b)"
   ]
  },
  {
   "cell_type": "markdown",
   "id": "e86dd8e5",
   "metadata": {},
   "source": [
    "## 2.4 What can be customized\n",
    "Look at the anatomy of the plot to see this. Image courtesy (https://matplotlib.org/stable/tutorials/introductory/usage.html)"
   ]
  },
  {
   "cell_type": "code",
   "execution_count": null,
   "id": "d5e712c0",
   "metadata": {},
   "outputs": [],
   "source": [
    "from IPython.core.display import Image, display\n",
    "\n",
    "image_file = \"https://raw.githubusercontent.com/datavector-io/datascience/main/01-Data_Visualization_Basics/anatomy.png\"\n",
    "\n",
    "display(Image(filename=image_file))"
   ]
  },
  {
   "cell_type": "markdown",
   "id": "dbd7b95c",
   "metadata": {},
   "source": [
    "### 2.4.1 Pyplot Functional Style customization"
   ]
  },
  {
   "cell_type": "code",
   "execution_count": null,
   "id": "76d764a6",
   "metadata": {},
   "outputs": [],
   "source": [
    "x = np.linspace(0, 2, 100)\n",
    "\n",
    "plt.plot(x, x, label='linear')  # Plot some data on the (implicit) axes.\n",
    "plt.plot(x, x**2, label='quadratic')  # etc.\n",
    "plt.plot(x, x**3, label='cubic')\n",
    "plt.xlabel('x label')\n",
    "plt.ylabel('y label')\n",
    "plt.title(\"Simple Plot\")\n",
    "plt.legend()"
   ]
  },
  {
   "cell_type": "markdown",
   "id": "04d7a331",
   "metadata": {},
   "source": [
    "### 2.4.2 OO Style customization"
   ]
  },
  {
   "cell_type": "code",
   "execution_count": null,
   "id": "e3cd5293",
   "metadata": {},
   "outputs": [],
   "source": [
    "x = np.linspace(0, 2, 100)\n",
    "\n",
    "# Note that even in the OO-style, we use `.pyplot.figure` to create the figure.\n",
    "fig, ax = plt.subplots()  # Create a figure and an axes.\n",
    "ax.plot(x, x, label='linear')  # Plot some data on the axes.\n",
    "ax.plot(x, x**2, label='quadratic')  # Plot more data on the axes...\n",
    "ax.plot(x, x**3, label='cubic')  # ... and some more.\n",
    "ax.set_xlabel('x label')  # Add an x-label to the axes.\n",
    "ax.set_ylabel('y label')  # Add a y-label to the axes.\n",
    "ax.set_title(\"Simple Plot\")  # Add a title to the axes.\n",
    "ax.legend()  # Add a legend."
   ]
  },
  {
   "cell_type": "markdown",
   "id": "cecae6b2",
   "metadata": {},
   "source": [
    "## 2.5 Saving Repetition\n",
    "Typically one has to plot the same way over and over again with different data sets, which leads to custom functions for plotting"
   ]
  },
  {
   "cell_type": "code",
   "execution_count": null,
   "id": "41340607",
   "metadata": {},
   "outputs": [],
   "source": [
    "def plot_data(ax, data1, data2, param_dict={'marker': '*', 'linestyle': '--'}):\n",
    "    out = ax.plot(data1, data2, **param_dict)\n",
    "    return out\n",
    "\n",
    "x = np.linspace(0, 2, 10)\n",
    "fig, ax = plt.subplots()\n",
    "plot_data(ax, x, x**2) # no need to pass linestyle marker styles etc."
   ]
  },
  {
   "cell_type": "markdown",
   "id": "a55d7728",
   "metadata": {},
   "source": [
    "# 3. Simple Visualizations"
   ]
  },
  {
   "cell_type": "markdown",
   "id": "8d0ec544",
   "metadata": {},
   "source": [
    "## 3.1 Subplots"
   ]
  },
  {
   "cell_type": "code",
   "execution_count": null,
   "id": "c67c48aa",
   "metadata": {},
   "outputs": [],
   "source": [
    "# First way of subplotting\n",
    "x = np.linspace(0, 2, 10)\n",
    "\n",
    "fig, (ax1, ax2) = plt.subplots(1, 2) # 1 row with 2 subplots\n",
    "\n",
    "ax1.plot(x, x**2)\n",
    "ax2.plot(x, x**3)"
   ]
  },
  {
   "cell_type": "code",
   "execution_count": null,
   "id": "80158b32",
   "metadata": {},
   "outputs": [],
   "source": [
    "# Second way of subplotting\n",
    "x = np.linspace(0, 2, 10)\n",
    "\n",
    "plt.subplot(131)\n",
    "plt.plot(x, x)\n",
    "plt.subplot(132)\n",
    "plt.plot(x, x**2)\n",
    "plt.subplot(133)\n",
    "plt.plot(x, x**3)\n",
    "plt.suptitle('Second way of Sub Plotting in default figure size')\n",
    "\n",
    "plt.figure(figsize=(12, 3)) # By default, plt attempts to fit all plots in a narrow band as above. Increase this\n",
    "\n",
    "plt.subplot(131)\n",
    "plt.plot(x, x)\n",
    "plt.subplot(132)\n",
    "plt.plot(x, x**2)\n",
    "plt.subplot(133)\n",
    "plt.plot(x, x**3)\n",
    "plt.suptitle('Second way of Sub Plotting')"
   ]
  },
  {
   "cell_type": "markdown",
   "id": "0f85b0e0",
   "metadata": {},
   "source": [
    "## 3.2 Plotting Numerical Variables\n",
    "with plot() and scatter()"
   ]
  },
  {
   "cell_type": "code",
   "execution_count": null,
   "id": "a1404051",
   "metadata": {},
   "outputs": [],
   "source": [
    "x = np.linspace(0, 2, 10)\n",
    "\n",
    "plt.subplot(121)\n",
    "plt.plot(x, x)\n",
    "plt.subplot(122)\n",
    "plt.scatter(x, x**2)"
   ]
  },
  {
   "cell_type": "code",
   "execution_count": null,
   "id": "51dc5bb5",
   "metadata": {},
   "outputs": [],
   "source": [
    "# evenly sampled time at 200ms intervals\n",
    "t = np.arange(0., 5., 0.2)\n",
    "\n",
    "# red dashes, blue squares and green triangles\n",
    "plt.plot(t, t, 'r--', t, t**2, 'bs', t, t**3, 'g^')\n",
    "plt.show()"
   ]
  },
  {
   "cell_type": "markdown",
   "id": "32b033ed",
   "metadata": {},
   "source": [
    "### 3.2.1 Plotting Numerical data straight from Pandas"
   ]
  },
  {
   "cell_type": "code",
   "execution_count": null,
   "id": "be1d34d8",
   "metadata": {},
   "outputs": [],
   "source": [
    "# simulating a pandas dataframe\n",
    "data = {'a': np.arange(50),\n",
    "        'c': np.random.randint(0, 50, 50),\n",
    "        'd': np.random.randn(50)}\n",
    "data['b'] = data['a'] + 10 * np.random.randn(50)\n",
    "data['d'] = np.abs(data['d']) * 100\n",
    "\n",
    "# what is s masking? \n",
    "# https://matplotlib.org/stable/api/_as_gen/matplotlib.pyplot.scatter.html\n",
    "plt.scatter('a', 'b', c='c', s='d', data=data)\n",
    "plt.xlabel('entry a')\n",
    "plt.ylabel('entry b')\n",
    "plt.show()"
   ]
  },
  {
   "cell_type": "markdown",
   "id": "89452f8f",
   "metadata": {},
   "source": [
    "## 3.3 Demo"
   ]
  },
  {
   "cell_type": "code",
   "execution_count": null,
   "id": "d04a1a46",
   "metadata": {},
   "outputs": [],
   "source": [
    "# create some random data\n",
    "x = np.random.randn(100)\n",
    "rand_array = np.random.randn(100)\n",
    "print(type(rand_array))\n",
    "print(rand_array.shape)\n",
    "y = 3 * x + rand_array\n",
    "y"
   ]
  },
  {
   "cell_type": "code",
   "execution_count": null,
   "id": "1bc9053d",
   "metadata": {},
   "outputs": [],
   "source": [
    "plt.scatter(x,y) #v matplotlib scatter"
   ]
  },
  {
   "cell_type": "code",
   "execution_count": null,
   "id": "49f2fd2d",
   "metadata": {},
   "outputs": [],
   "source": [
    "# matplotlib plot\n",
    "T = np.array([6, 7, 8, 9, 10, 11, 12])\n",
    "power = np.array([1.53E+03, 5.92E+02, 2.04E+02, 7.24E+01, 2.72E+01, 1.10E+01, 4.70E+00])\n",
    "\n",
    "plt.plot(T,power)\n",
    "plt.show()"
   ]
  },
  {
   "cell_type": "code",
   "execution_count": null,
   "id": "d7b5ac67",
   "metadata": {},
   "outputs": [],
   "source": [
    "from scipy.interpolate import make_interp_spline, BSpline\n",
    "# 300 represents number of points to make between T.min and T.max\n",
    "xnew = np.linspace(T.min(), T.max(), 300) \n",
    "\n",
    "spl = make_interp_spline(T, power, k=3)  # type: BSpline\n",
    "power_smooth = spl(xnew)\n",
    "\n",
    "plt.plot(xnew, power_smooth)\n",
    "plt.show()"
   ]
  },
  {
   "cell_type": "code",
   "execution_count": null,
   "id": "07af9816",
   "metadata": {},
   "outputs": [],
   "source": [
    "def f(t):\n",
    "    return np.exp(-t) * np.cos(2*np.pi*t)\n",
    "\n",
    "t1 = np.arange(0.0, 5.0, 0.1)\n",
    "t2 = np.arange(0.0, 5.0, 0.02)\n",
    "\n",
    "plt.figure()\n",
    "plt.subplot(211)\n",
    "#multiple plots in single invocation\n",
    "plt.plot(t1, f(t1), 'bo', t2, f(t2), 'k') # bo means blue circle g^ means green triangle etc.\n",
    "\n",
    "plt.subplot(212)\n",
    "plt.plot(t2, np.cos(2*np.pi*t2), 'r--') # r-- means red dash\n",
    "plt.show()"
   ]
  },
  {
   "cell_type": "markdown",
   "id": "5d0e7a6d",
   "metadata": {},
   "source": [
    "## 3.4 Plotting Categorical Variables"
   ]
  },
  {
   "cell_type": "markdown",
   "id": "fc5a2361",
   "metadata": {},
   "source": [
    "### 3.4.1 Bar chart"
   ]
  },
  {
   "cell_type": "code",
   "execution_count": null,
   "id": "e5011f28",
   "metadata": {},
   "outputs": [],
   "source": [
    "names = ['group_a', 'group_b', 'group_c']\n",
    "values = [1, 10, 100]\n",
    "plt.bar(names, values)"
   ]
  },
  {
   "cell_type": "markdown",
   "id": "3d92e621",
   "metadata": {},
   "source": [
    "### 3.4.2 Histogram"
   ]
  },
  {
   "cell_type": "code",
   "execution_count": null,
   "id": "00ee271a",
   "metadata": {},
   "outputs": [],
   "source": [
    "mu, sigma = 100, 15\n",
    "x = mu + sigma * np.random.randn(10000)\n",
    "\n",
    "# the histogram of the data\n",
    "n, bins, patches = plt.hist(x, 50, density=1, facecolor='g', alpha=0.75)\n",
    "\n",
    "\n",
    "plt.xlabel('Smarts')\n",
    "plt.ylabel('Probability')\n",
    "plt.title('Histogram of IQ')\n",
    "plt.text(60, .025, r'$\\mu=100,\\ \\sigma=15$')\n",
    "plt.axis([40, 160, 0, 0.03])\n",
    "plt.grid(True)\n",
    "plt.show()"
   ]
  },
  {
   "cell_type": "markdown",
   "id": "b436ab06",
   "metadata": {},
   "source": [
    "### 3.4.3 Side by side bar charts"
   ]
  },
  {
   "cell_type": "code",
   "execution_count": null,
   "id": "10bcb424",
   "metadata": {},
   "outputs": [],
   "source": [
    "# Setting the data\n",
    "years = [2013,2014,2015,2016,2017,2018,2019,2020,2021]\n",
    "Ford = [0,0,4,0,0,0,1,1,1]\n",
    "Honda = [2,0,0,0,1,2,2,2,2]\n",
    "Toyota = [1,2,4,7,8,18,18,20,22]\n",
    "Chevrolet = [0,0,0,1,1,3,4,4,4]\n",
    "Dodge = [4,0,0,8,3,4,8,10,10]\n",
    "\n",
    "# set bar width\n",
    "width=0.15\n",
    "\n",
    "# axis index\n",
    "years_index = np.arange(len(years))\n",
    "\n",
    "# clear reset plt style\n",
    "plt.style.use('default')\n",
    "plt.style.use(['ggplot'])\n",
    "\n",
    "plt.figure(figsize=(8,5))\n",
    "\n",
    "# plt interface approach for bar charts\n",
    "plt.bar(years_index-2*width, Ford, color='#c6ddf1', label='Ford', width=width, linewidth=0.4,edgecolor='darkgrey')\n",
    "plt.bar(years_index-width, Honda, color='#99b6ce', label='Honda', width=width)\n",
    "plt.bar(years_index, Toyota, color='#6d91ad', label='Toyota', width=width)\n",
    "plt.bar(years_index+width, Chevrolet, color='#416e8c', label='Chevrolet', width=width)\n",
    "plt.bar(years_index+2*width, Dodge, color='#004c6d', label='Dodge', width=width)\n",
    "\n",
    "plt.legend()\n",
    "plt.title('Car model ownership')\n",
    "plt.xlabel('Year')\n",
    "plt.xticks(ticks=years_index, labels=years)\n",
    "plt.ylabel('Count')\n",
    "#plt.yticks(list(np.arange(df_cumsum['count'].max()+1)))\n",
    "plt.show()"
   ]
  },
  {
   "cell_type": "markdown",
   "id": "dc2652ed",
   "metadata": {},
   "source": [
    "## 3.5 More Plots\n",
    "https://matplotlib.org/stable/tutorials/introductory/sample_plots.html#sphx-glr-tutorials-introductory-sample-plots-py"
   ]
  },
  {
   "cell_type": "markdown",
   "id": "c3a8c2af",
   "metadata": {},
   "source": [
    "# 4. Other Customization"
   ]
  },
  {
   "cell_type": "code",
   "execution_count": null,
   "id": "31ea8ec7",
   "metadata": {},
   "outputs": [],
   "source": [
    "plt.title(r'$\\sigma_i=15$') #Use mathemtical symbols in text etc"
   ]
  },
  {
   "cell_type": "code",
   "execution_count": null,
   "id": "a26cfe56",
   "metadata": {},
   "outputs": [],
   "source": [
    "# Add annotations in plot\n",
    "ax = plt.subplot()\n",
    "\n",
    "t = np.arange(0.0, 5.0, 0.01)\n",
    "s = np.cos(2*np.pi*t)\n",
    "line, = plt.plot(t, s, lw=2)\n",
    "\n",
    "plt.annotate('local max', xy=(2, 1), xytext=(3, 1.5),\n",
    "             arrowprops=dict(facecolor='black', shrink=0.05),\n",
    "             )\n",
    "\n",
    "plt.ylim(-2, 2)\n",
    "plt.show()"
   ]
  },
  {
   "cell_type": "code",
   "execution_count": null,
   "id": "fa9c33ab",
   "metadata": {},
   "outputs": [],
   "source": [
    "# Non linear axes\n",
    "\n",
    "# Fixing random state for reproducibility\n",
    "np.random.seed(19680801)\n",
    "\n",
    "# make up some data in the open interval (0, 1)\n",
    "y = np.random.normal(loc=0.5, scale=0.4, size=1000)\n",
    "y = y[(y > 0) & (y < 1)]\n",
    "y.sort()\n",
    "x = np.arange(len(y))\n",
    "\n",
    "# plot with various axes scales\n",
    "plt.figure()\n",
    "\n",
    "# linear\n",
    "plt.subplot(221)\n",
    "plt.plot(x, y)\n",
    "plt.yscale('linear')\n",
    "plt.title('linear')\n",
    "plt.grid(True)\n",
    "\n",
    "# log\n",
    "plt.subplot(222)\n",
    "plt.plot(x, y)\n",
    "plt.yscale('log')\n",
    "plt.title('log')\n",
    "plt.grid(True)\n",
    "\n",
    "# symmetric log\n",
    "plt.subplot(223)\n",
    "plt.plot(x, y - y.mean())\n",
    "plt.yscale('symlog', linthresh=0.01)\n",
    "plt.title('symlog')\n",
    "plt.grid(True)\n",
    "\n",
    "# logit\n",
    "plt.subplot(224)\n",
    "plt.plot(x, y)\n",
    "plt.yscale('logit')\n",
    "plt.title('logit')\n",
    "plt.grid(True)\n",
    "\n",
    "# Adjust the subplot layout, because the logit one may take more space\n",
    "# than usual, due to y-tick labels like \"1 - 10^{-3}\"\n",
    "plt.subplots_adjust(top=0.92, bottom=0.08, left=0.10, right=0.95, hspace=0.25,\n",
    "                    wspace=0.35)\n",
    "\n",
    "plt.show()"
   ]
  },
  {
   "cell_type": "code",
   "execution_count": null,
   "id": "23e55630",
   "metadata": {},
   "outputs": [],
   "source": [
    "import matplotlib.pyplot as plt\n",
    "import numpy as np\n",
    "\n",
    "x = np.random.randint(100, size=(100))\n",
    "y = np.random.randint(100, size=(100))\n",
    "colors = np.random.randint(100, size=(100))\n",
    "sizes = 10 * np.random.randint(100, size=(100))\n",
    "\n",
    "plt.scatter(x, y, c=colors, s=sizes, alpha=0.5, cmap='nipy_spectral')\n",
    "\n",
    "plt.colorbar()\n",
    "\n",
    "plt.show()"
   ]
  }
 ],
 "metadata": {
  "kernelspec": {
   "display_name": "Python 3",
   "language": "python",
   "name": "python3"
  },
  "language_info": {
   "codemirror_mode": {
    "name": "ipython",
    "version": 3
   },
   "file_extension": ".py",
   "mimetype": "text/x-python",
   "name": "python",
   "nbconvert_exporter": "python",
   "pygments_lexer": "ipython3",
   "version": "3.8.8"
  }
 },
 "nbformat": 4,
 "nbformat_minor": 5
}
