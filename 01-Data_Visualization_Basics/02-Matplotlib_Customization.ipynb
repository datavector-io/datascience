{
 "cells": [
  {
   "cell_type": "code",
   "execution_count": null,
   "id": "f3c790fe",
   "metadata": {},
   "outputs": [],
   "source": [
    "import numpy as np\n",
    "import pandas as pd\n",
    "\n",
    "import matplotlib as mpl\n",
    "import matplotlib.pyplot as plt\n",
    "\n",
    "#for showing plots without calling plt.show()\n",
    "%matplotlib inline\n",
    "\n",
    "# https://matplotlib.org/stable/api/\n",
    "# https://matplotlib.org/stable/tutorials/index.html"
   ]
  },
  {
   "cell_type": "markdown",
   "id": "dd579912",
   "metadata": {},
   "source": [
    "First shot at Matplotlib is to just get it work. But after that one tries to improve by customization for \n",
    "1. Use a style\n",
    "2. Uniform look and feel \n",
    "3. Reusable code snippets for visualization\n",
    "4. improved reusable code"
   ]
  },
  {
   "cell_type": "markdown",
   "id": "6f8e594b",
   "metadata": {},
   "source": [
    "# 1 Choosing uniform Look and Feel"
   ]
  },
  {
   "cell_type": "markdown",
   "id": "d6490bff",
   "metadata": {},
   "source": [
    "## 1.1 Setting a uniform fontsize and using"
   ]
  },
  {
   "cell_type": "code",
   "execution_count": null,
   "id": "c2ed28a7",
   "metadata": {},
   "outputs": [],
   "source": [
    "# uniform fontsizes for different things\n",
    "\n",
    "# x & y label fontsize\n",
    "xls = 14\n",
    "yls = 14\n",
    "# x & y tick fontsize\n",
    "xts = 13\n",
    "yts = 13\n",
    "# title fontsize\n",
    "ts = 15\n",
    "# legend fontsize\n",
    "ls = 13"
   ]
  },
  {
   "cell_type": "code",
   "execution_count": null,
   "id": "565199c3",
   "metadata": {},
   "outputs": [],
   "source": [
    "#Using the previously set styles\n",
    "gold_prices = [6100, 5800, 5900, 5800, 5800, 6000, 6200, 6200, 6200, 6200, 6100, 5200, \n",
    "               5200, 6800, 6700, 6700, 6700, 6700, 6700, 6700, 6700, 6800, 6800, 6800, \n",
    "               6800, 6800, 7200, 6800, 6800, 6800, 6800, 2300, 11580, 4050, 2300, 22856, 22516]\n",
    "\n",
    "# Establish the size of the figure.\n",
    "fig = plt.figure(figsize=(16, 6))\n",
    "plt.plot(gold_prices, linewidth=2,color='blue')\n",
    "\n",
    "# Customize\n",
    "plt.title('Price over time',fontsize=ts)\n",
    "plt.ylabel('Price', fontsize=yls)\n",
    "plt.yticks(size=yts)\n",
    "plt.xticks(size=12)\n",
    "\n",
    "# Rotate and align the tick labels so they look better.\n",
    "fig.autofmt_xdate()\n",
    "\n",
    "plt.show()"
   ]
  },
  {
   "cell_type": "markdown",
   "id": "614fbf7c",
   "metadata": {},
   "source": [
    "## 1.2 Color Scheme\n",
    "\n",
    "Three types of color schemes\n",
    "1. Qualitative\n",
    "2. Sequential (Single Hue)\n",
    "3. Diverging\n",
    "\n",
    "You can read more about this here: https://learnui.design/tools/data-color-picker.html\n",
    "Go and copy the hues from there - varying the brightness and intensity as needed"
   ]
  },
  {
   "cell_type": "code",
   "execution_count": null,
   "id": "a91c8230",
   "metadata": {},
   "outputs": [],
   "source": [
    "single_hue_palette = ['#004c6d', '#346888', '#5886a5', '#7aa6c2', '#9dc6e0', '#c1e7ff']\n",
    "divergent_hue_palette = ['#00876c', '#6aaa96', '#aecdc2', '#f1f1f1', '#f0b8b8', '#e67f83', '#d43d51']"
   ]
  },
  {
   "cell_type": "markdown",
   "id": "71a347fe",
   "metadata": {},
   "source": [
    "# 2 Advanced Plotting"
   ]
  },
  {
   "cell_type": "markdown",
   "id": "4b5ee676",
   "metadata": {},
   "source": [
    "## 2.1 Common Data Creation"
   ]
  },
  {
   "cell_type": "code",
   "execution_count": null,
   "id": "c8a04fc0",
   "metadata": {},
   "outputs": [],
   "source": [
    "cars = ['Ford', 'Honda', 'Toyota', 'Chevrolet', 'Dodge', 'Ford', 'Honda', 'Toyota', 'Chevrolet', 'Dodge']\n",
    "sales = [1000, 1000, 2400, 700, 300, 1200, 1700, 2800, 1000, 400]\n",
    "year = [2016, 2016, 2016, 2016, 2016, 2017, 2017, 2017, 2017, 2017]\n",
    "\n",
    "df = pd.DataFrame({'Cars': cars, 'Year': year, 'Sales': sales})"
   ]
  },
  {
   "cell_type": "markdown",
   "id": "cf65042d",
   "metadata": {},
   "source": [
    "## 2.2 Bar Chart"
   ]
  },
  {
   "cell_type": "code",
   "execution_count": null,
   "id": "9db9e909",
   "metadata": {},
   "outputs": [],
   "source": [
    "# Bar chart distribution of iaito count\n",
    "fig, ax1 = plt.subplots(figsize=(18,5))\n",
    "\n",
    "ax1.bar(x=df['Cars'], height=df['Sales'], width=0.5, color=divergent_hue_palette)\n",
    "plt.yticks(np.arange(0, 22,2),fontsize=yts)\n",
    "plt.xticks(fontsize=xts)\n",
    "plt.title('Car Sales',fontsize=ts)\n",
    "plt.show()"
   ]
  },
  {
   "cell_type": "markdown",
   "id": "93cafe63",
   "metadata": {},
   "source": [
    "## 2.3 Pie & Donut Charts"
   ]
  },
  {
   "cell_type": "code",
   "execution_count": null,
   "id": "43721cea",
   "metadata": {},
   "outputs": [],
   "source": [
    "# Create figure\n",
    "plt.figure(figsize=(12,12)) #This setting seems to have no impact on fig size\n",
    "ax = df.groupby(['Cars']).sum().plot.pie(y='Sales', fontsize=ls, autopct='%1.1f%%')\n",
    "ax.set_ylabel(\"\")\n",
    "ax.set_title(\"Car sales in USA\",fontsize=ts)\n",
    "ax.get_legend().remove()"
   ]
  },
  {
   "cell_type": "code",
   "execution_count": null,
   "id": "4eecf2bf",
   "metadata": {},
   "outputs": [],
   "source": [
    "# Create subplots figure\n",
    "ax = df.groupby(['Cars']).sum().plot.pie(subplots=True, fontsize=ls, autopct='%1.1f%%', legend=None)"
   ]
  },
  {
   "cell_type": "code",
   "execution_count": null,
   "id": "6d8745bb",
   "metadata": {},
   "outputs": [],
   "source": [
    "# Create donut. Notice the use of single hue palette\n",
    "\n",
    "ax = df.groupby(['Cars']).sum().plot(kind='pie',y='Sales', legend=None,\n",
    "            fontsize=ls,autopct='%1.1f%%',pctdistance=0.6, colors=single_hue_palette)\n",
    "\n",
    "ax.set_ylabel(\"\")\n",
    "ax.set_title(\"Car sales in USA\",fontsize=ts)\n",
    "\n",
    "# Add a white circle to center of pie chart\n",
    "centre_circle = plt.Circle((0,0),0.80,fc='white')\n",
    "fig = plt.gcf()\n",
    "fig.gca().add_artist(centre_circle)\n",
    "fig.set_size_inches(10,10)"
   ]
  },
  {
   "cell_type": "code",
   "execution_count": null,
   "id": "fb7864da",
   "metadata": {},
   "outputs": [],
   "source": [
    "# Create donut. Notice the use of divergent hue palette\n",
    "\n",
    "ax = df.groupby(['Cars']).sum().plot(kind='pie',y='Sales', legend=None,\n",
    "            fontsize=ls,autopct='%1.1f%%',pctdistance=0.6, colors=divergent_hue_palette)\n",
    "\n",
    "ax.set_ylabel(\"\")\n",
    "ax.set_title(\"Car sales in USA\",fontsize=ts)\n",
    "\n",
    "# Add a white circle to center of pie chart\n",
    "centre_circle = plt.Circle((0,0),0.80,fc='white')\n",
    "fig = plt.gcf()\n",
    "fig.gca().add_artist(centre_circle)\n",
    "fig.set_size_inches(10,10)"
   ]
  }
 ],
 "metadata": {
  "kernelspec": {
   "display_name": "Python 3",
   "language": "python",
   "name": "python3"
  },
  "language_info": {
   "codemirror_mode": {
    "name": "ipython",
    "version": 3
   },
   "file_extension": ".py",
   "mimetype": "text/x-python",
   "name": "python",
   "nbconvert_exporter": "python",
   "pygments_lexer": "ipython3",
   "version": "3.8.8"
  }
 },
 "nbformat": 4,
 "nbformat_minor": 5
}
