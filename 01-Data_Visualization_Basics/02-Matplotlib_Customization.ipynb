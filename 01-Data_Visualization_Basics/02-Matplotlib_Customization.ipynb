{
 "cells": [
  {
   "cell_type": "code",
   "execution_count": null,
   "id": "f3c790fe",
   "metadata": {},
   "outputs": [],
   "source": [
    "import numpy as np\n",
    "import pandas as pd\n",
    "\n",
    "import matplotlib as mpl\n",
    "import matplotlib.pyplot as plt\n",
    "\n",
    "#for showing plots without calling plt.show()\n",
    "%matplotlib inline\n",
    "\n",
    "# https://matplotlib.org/stable/api/\n",
    "# https://matplotlib.org/stable/tutorials/index.html"
   ]
  },
  {
   "cell_type": "markdown",
   "id": "dd579912",
   "metadata": {},
   "source": [
    "First shot at Matplotlib is to just get it work. But after that one tries to improve by customization for \n",
    "1. Use a style\n",
    "2. Uniform look and feel \n",
    "3. Reusable code snippets for visualization\n",
    "4. improved reusable code"
   ]
  },
  {
   "cell_type": "markdown",
   "id": "6f8e594b",
   "metadata": {},
   "source": [
    "# 1 Choosing uniform Look and Feel"
   ]
  },
  {
   "cell_type": "markdown",
   "id": "d6490bff",
   "metadata": {},
   "source": [
    "## 1.1 Setting a uniform fontsize and using"
   ]
  },
  {
   "cell_type": "code",
   "execution_count": null,
   "id": "c2ed28a7",
   "metadata": {},
   "outputs": [],
   "source": [
    "# uniform fontsizes for different things\n",
    "\n",
    "# x & y label fontsize\n",
    "xls = 14\n",
    "yls = 14\n",
    "# x & y tick fontsize\n",
    "xts = 13\n",
    "yts = 13\n",
    "# title fontsize\n",
    "ts = 15\n",
    "# legend fontsize\n",
    "ls = 13"
   ]
  },
  {
   "cell_type": "code",
   "execution_count": null,
   "id": "565199c3",
   "metadata": {},
   "outputs": [],
   "source": [
    "#Using the previously set styles\n",
    "gold_prices = [200, 6100, 5800, 5900, 5800, 5800, 6000, 6200, 6200, 6200, 6200, 6100, 5200, \n",
    "               5200, 6800, 6700, 6700, 6700, 6700, 6700, 6700, 6700, 6800, 6800, 6800, \n",
    "               6800, 6800, 7200, 6800, 6800, 6800, 6800, 2300, 11580, 4050, 2300, 22856, 22516]\n",
    "\n",
    "# Establish the size of the figure.\n",
    "fig = plt.figure(figsize=(16, 6))\n",
    "plt.plot(gold_prices, linewidth=2,color='blue')\n",
    "\n",
    "# Customize\n",
    "plt.title('Price over time',fontsize=ts)\n",
    "plt.ylabel('Price', fontsize=yls)\n",
    "plt.yticks(size=yts)\n",
    "plt.xticks(size=12)\n",
    "\n",
    "# Rotate and align the tick labels so they look better.\n",
    "fig.autofmt_xdate()\n",
    "\n",
    "plt.show()"
   ]
  },
  {
   "cell_type": "markdown",
   "id": "614fbf7c",
   "metadata": {},
   "source": [
    "## 1.2 Color Scheme\n",
    "\n",
    "Three types of color schemes\n",
    "1. Qualitative\n",
    "2. Sequential (Single Hue)\n",
    "3. Diverging\n",
    "\n",
    "You can read more about this here: https://learnui.design/tools/data-color-picker.html\n",
    "Go and copy the hues from there - varying the brightness and intensity as needed"
   ]
  },
  {
   "cell_type": "code",
   "execution_count": null,
   "id": "a91c8230",
   "metadata": {},
   "outputs": [],
   "source": [
    "single_hue_palette = ['#004c6d', '#346888', '#5886a5', '#7aa6c2', '#9dc6e0', '#c1e7ff']\n",
    "divergent_hue_palette = ['#00876c', '#6aaa96', '#aecdc2', '#f1f1f1', '#f0b8b8', '#e67f83', '#d43d51']"
   ]
  },
  {
   "cell_type": "markdown",
   "id": "71a347fe",
   "metadata": {},
   "source": [
    "# 2 Plotting other basic shapes (Pie and Boxplot)"
   ]
  },
  {
   "cell_type": "markdown",
   "id": "4b5ee676",
   "metadata": {},
   "source": [
    "## 2.1 Common Data Creation"
   ]
  },
  {
   "cell_type": "code",
   "execution_count": null,
   "id": "c8a04fc0",
   "metadata": {},
   "outputs": [],
   "source": [
    "cars = ['Ford', 'Honda', 'Toyota', 'Chevrolet', 'Dodge', 'Ford', 'Honda', 'Toyota', 'Chevrolet', 'Dodge']\n",
    "sales = [1000, 1000, 2400, 700, 300, 1200, 1700, 2800, 1000, 400]\n",
    "year = [2016, 2016, 2016, 2016, 2016, 2017, 2017, 2017, 2017, 2017]\n",
    "\n",
    "df = pd.DataFrame({'Cars': cars, 'Year': year, 'Sales': sales})"
   ]
  },
  {
   "cell_type": "markdown",
   "id": "cf65042d",
   "metadata": {},
   "source": [
    "## 2.2 Bar Chart"
   ]
  },
  {
   "cell_type": "code",
   "execution_count": null,
   "id": "9db9e909",
   "metadata": {},
   "outputs": [],
   "source": [
    "# Bar chart distribution of iaito count\n",
    "fig, ax1 = plt.subplots(figsize=(18,5))\n",
    "\n",
    "ax1.bar(x=df['Cars'], height=df['Sales'], width=0.5, color=divergent_hue_palette)\n",
    "plt.yticks(np.arange(0, 22,2),fontsize=yts)\n",
    "plt.xticks(fontsize=xts)\n",
    "plt.title('Car Sales',fontsize=ts)\n",
    "plt.show()"
   ]
  },
  {
   "cell_type": "markdown",
   "id": "93cafe63",
   "metadata": {},
   "source": [
    "## 2.3 Pie Chart"
   ]
  },
  {
   "cell_type": "code",
   "execution_count": null,
   "id": "43721cea",
   "metadata": {},
   "outputs": [],
   "source": [
    "# Create figure\n",
    "plt.figure(figsize=(12,12)) #This setting seems to have no impact on fig size\n",
    "ax = df.groupby(['Cars']).sum().plot.pie(y='Sales', fontsize=ls, autopct='%1.1f%%')\n",
    "ax.set_ylabel(\"\")\n",
    "ax.set_title(\"Car sales in USA\",fontsize=ts)\n",
    "\n",
    "# ax.get_legend().remove() # if image is too small then legend is overlaid on the pie. but here we have set figsize\n",
    "\n",
    "fig = plt.gcf()\n",
    "fig.set_size_inches(10,10)"
   ]
  },
  {
   "cell_type": "code",
   "execution_count": null,
   "id": "4eecf2bf",
   "metadata": {},
   "outputs": [],
   "source": [
    "# Create subplots figure\n",
    "ax = df.groupby(['Cars']).sum().plot.pie(subplots=True, fontsize=ls, autopct='%1.1f%%', legend=None)"
   ]
  },
  {
   "cell_type": "markdown",
   "id": "05da4a13",
   "metadata": {},
   "source": [
    "## 2.4 Box Plot"
   ]
  },
  {
   "cell_type": "code",
   "execution_count": null,
   "id": "db9b6444",
   "metadata": {},
   "outputs": [],
   "source": [
    "plt.boxplot(gold_prices)"
   ]
  },
  {
   "cell_type": "markdown",
   "id": "bdb8e492",
   "metadata": {},
   "source": [
    "# 3. Donut Plot"
   ]
  },
  {
   "cell_type": "code",
   "execution_count": null,
   "id": "6d8745bb",
   "metadata": {},
   "outputs": [],
   "source": [
    "# Create donut. Notice the use of single hue palette\n",
    "\n",
    "ax = df.groupby(['Cars']).sum().plot(kind='pie',y='Sales', legend=None,\n",
    "            fontsize=ls,autopct='%1.1f%%',pctdistance=0.6, colors=single_hue_palette)\n",
    "\n",
    "ax.set_ylabel(\"\")\n",
    "ax.set_title(\"Car sales in USA\",fontsize=ts)\n",
    "\n",
    "# Add a white circle to center of pie chart\n",
    "centre_circle = plt.Circle((0,0),0.80,fc='white')\n",
    "fig = plt.gcf()\n",
    "fig.gca().add_artist(centre_circle)\n",
    "fig.set_size_inches(10,10)"
   ]
  },
  {
   "cell_type": "code",
   "execution_count": null,
   "id": "fb7864da",
   "metadata": {},
   "outputs": [],
   "source": [
    "# Create donut. Notice the use of divergent hue palette\n",
    "\n",
    "ax = df.groupby(['Cars']).sum().plot(kind='pie',y='Sales', legend=None,\n",
    "            fontsize=ls,autopct='%1.1f%%',pctdistance=0.6, colors=divergent_hue_palette)\n",
    "\n",
    "ax.set_ylabel(\"\")\n",
    "ax.set_title(\"Car sales in USA\",fontsize=ts)\n",
    "\n",
    "# Add a white circle to center of pie chart\n",
    "centre_circle = plt.Circle((0,0),0.80,fc='white')\n",
    "fig = plt.gcf()\n",
    "fig.gca().add_artist(centre_circle)\n",
    "fig.set_size_inches(10,10)"
   ]
  },
  {
   "cell_type": "markdown",
   "id": "bfa8059f",
   "metadata": {},
   "source": [
    "# 4. Different Type of Pie Chart"
   ]
  },
  {
   "cell_type": "code",
   "execution_count": null,
   "id": "ab2c73b5",
   "metadata": {},
   "outputs": [],
   "source": [
    "cars1 = ['Ford', 'Honda', 'Toyota', 'Chevrolet', 'Dodge']\n",
    "sales1 = [1000, 1000, 2400, 700, 300]\n",
    "\n",
    "df1 = pd.DataFrame({'Cars': cars1, 'Sales': sales1})\n",
    "\n",
    "# compute max and min of dataset\n",
    "max_ = df1['Sales'].max()\n",
    "min_ = df1['Sales'].min()\n",
    "\n",
    "# set coordinate limits\n",
    "upperlimit = 100\n",
    "lowerlimit = 30\n",
    "\n",
    "# compute heights (conversion of saya_charge into new coordinates)\n",
    "# 0 will be converted to lower limit (30)\n",
    "# max_ converted to upper limit (100)\n",
    "slope = (max_ - lowerlimit)/max_\n",
    "heights = slope * df1['Sales'] + lowerlimit\n",
    "\n",
    "# width of each bar\n",
    "width = 2*np.pi / len(df1.index)\n",
    "\n",
    "# compute angle each bar is centered on\n",
    "indexes = list(range(1, len(df1.index)+1))\n",
    "angles = [element * width for element in indexes]"
   ]
  },
  {
   "cell_type": "code",
   "execution_count": null,
   "id": "982415f8",
   "metadata": {},
   "outputs": [],
   "source": [
    "# initialize the figure\n",
    "plt.figure(figsize=(10,10))\n",
    "ax = plt.subplot(111, polar=True);\n",
    "plt.axis('off')\n",
    "plt.title('Cars ranked by Sales',y=.9,fontsize=ts)\n",
    "\n",
    "# draw\n",
    "bars = ax.bar(x=angles, height=heights, width=width, bottom=lowerlimit,\n",
    "              linewidth=1,edgecolor=\"white\",color=divergent_hue_palette)\n",
    "\n",
    "# padding between bar and label\n",
    "labelPadding = 100\n",
    "\n",
    "# label\n",
    "for bar, angle, height, label in zip(bars,angles,heights,df1['Cars']):\n",
    "    # specify rotation in degrees\n",
    "    rotation = np.rad2deg(angle)\n",
    "    \n",
    "    #flip some labels upside down for readability\n",
    "    alignment = \"\"\n",
    "    if angle >= np.pi/2 and angle < 3*np.pi/2:\n",
    "        alignment = \"right\"\n",
    "        rotation += 180\n",
    "    else:\n",
    "        alignment = \"left\"\n",
    "    \n",
    "    # add label\n",
    "    ax.text(x=angle, y=lowerlimit + bar.get_height() + labelPadding,\n",
    "            s=label, ha=alignment, va='center', rotation=rotation, rotation_mode=\"anchor\",size=12)\n",
    "plt.show()"
   ]
  },
  {
   "cell_type": "markdown",
   "id": "0a0d0505",
   "metadata": {},
   "source": [
    "# 5. A Basic 3-D Plot"
   ]
  },
  {
   "cell_type": "code",
   "execution_count": null,
   "id": "d56ebb75",
   "metadata": {},
   "outputs": [],
   "source": [
    "import random\n",
    "randomlist = []\n",
    "for i in range(0,10):\n",
    "    n = random.randint(1,30)\n",
    "    randomlist.append(n)\n",
    "    \n",
    "print(randomlist)\n",
    "\n",
    "\n",
    "labels = ['Year', 'Sales', 'Random']\n",
    "x = df['Year']\n",
    "y = df['Sales']\n",
    "z = pd.Series(randomlist)\n",
    "\n",
    "plt.style.use('default')\n",
    "plt.style.use(['ggplot','seaborn-whitegrid'])\n",
    "\n",
    "fig = plt.figure(figsize=(8,8))\n",
    "ax = plt.axes(projection='3d')\n",
    "\n",
    "for l in labels:   \n",
    "    ax.scatter(x,y,z,label=l)\n",
    "\n",
    "ax.set_title('Sales By Year and Random Int')\n",
    "ax.set_xlabel('year')\n",
    "ax.set_ylabel('Number Sold')\n",
    "ax.set_zlabel('Random Int')\n",
    "ax.legend(bbox_to_anchor=(1.3, 0.6))\n",
    "plt.show()"
   ]
  },
  {
   "cell_type": "markdown",
   "id": "db5169e2",
   "metadata": {},
   "source": [
    "# 6. Demo\n",
    "\n",
    "Simulating a Stock Tracker"
   ]
  },
  {
   "cell_type": "code",
   "execution_count": null,
   "id": "f0f00f40",
   "metadata": {},
   "outputs": [],
   "source": [
    "# Create some data\n",
    "rng = np.random.RandomState(0)\n",
    "x = np.linspace(0, 10, 500)\n",
    "y = np.cumsum(rng.randn(500, 4), 0)\n",
    "\n",
    "# Plot the data with Matplotlib defaults\n",
    "plt.plot(x, y)\n",
    "plt.legend(['AMZN', 'GOGL', 'MSFT', 'APPL'], ncol=2, loc='upper left');"
   ]
  },
  {
   "cell_type": "code",
   "execution_count": null,
   "id": "041f6f21",
   "metadata": {},
   "outputs": [],
   "source": []
  },
  {
   "cell_type": "code",
   "execution_count": null,
   "id": "23fab855",
   "metadata": {},
   "outputs": [],
   "source": []
  }
 ],
 "metadata": {
  "kernelspec": {
   "display_name": "Python 3",
   "language": "python",
   "name": "python3"
  },
  "language_info": {
   "codemirror_mode": {
    "name": "ipython",
    "version": 3
   },
   "file_extension": ".py",
   "mimetype": "text/x-python",
   "name": "python",
   "nbconvert_exporter": "python",
   "pygments_lexer": "ipython3",
   "version": "3.8.8"
  }
 },
 "nbformat": 4,
 "nbformat_minor": 5
}
