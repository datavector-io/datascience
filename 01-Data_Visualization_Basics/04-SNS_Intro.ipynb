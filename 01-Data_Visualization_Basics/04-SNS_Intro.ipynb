{
 "cells": [
  {
   "cell_type": "markdown",
   "id": "4dae8219",
   "metadata": {},
   "source": [
    "# 1. Intro\n",
    "\n",
    "SNS provides a high level interface for drawing over matplotlib\n",
    "\n",
    "\n",
    "## 1.1 Plotting Types\n",
    "\n",
    "Two types of plotting are used with SNS (same as matplotlib)\n",
    "\n",
    "1. Functional Interface\n",
    "2. Object Oriented Interface"
   ]
  },
  {
   "cell_type": "code",
   "execution_count": null,
   "id": "d271f76b",
   "metadata": {},
   "outputs": [],
   "source": [
    "import numpy as np\n",
    "import pandas as pd\n",
    "\n",
    "import matplotlib.pyplot as plt\n",
    "%matplotlib inline\n",
    "\n",
    "import seaborn as sns\n",
    "sns.set(color_codes=True)"
   ]
  },
  {
   "cell_type": "code",
   "execution_count": null,
   "id": "0c804779",
   "metadata": {},
   "outputs": [],
   "source": [
    "cars = ['Ford', 'Honda', 'Toyota', 'Chevrolet', 'Dodge', 'Ford', 'Honda', 'Toyota', 'Chevrolet', 'Dodge']\n",
    "sales = [1000, 1000, 2400, 700, 300, 1200, 1700, 2800, 1000, 400]\n",
    "year = [2016, 2016, 2016, 2016, 2016, 2017, 2017, 2017, 2017, 2017]\n",
    "\n",
    "df = pd.DataFrame({'Cars': cars, 'Year': year, 'Sales': sales})"
   ]
  },
  {
   "cell_type": "code",
   "execution_count": null,
   "id": "e0985e50",
   "metadata": {},
   "outputs": [],
   "source": [
    "# Figure-level\n",
    "#sns.catplot(data=df, x='Year', y='Sales', height=8, aspect=12)\n",
    "\n",
    "# object-oriented style\n",
    "#f, (ax1, ax2) = plt.subplots(2) \n",
    "#sns.regplot(x, y, ax=ax1) \n",
    "#sns.kdeplot(x, ax=ax2)"
   ]
  },
  {
   "cell_type": "markdown",
   "id": "b54b6027",
   "metadata": {},
   "source": [
    "## 1.2 Categories by plotting function\n",
    "\n",
    "1. “Axes-level” functions: regplot, boxplot, kdeplot\n",
    "2. “Figure-level” functions: relplot, catplot, displot, pairplot, jointplot\n",
    "\n",
    "Categorize these by numerical and categorical (TBD)\n",
    "\n",
    "1. Hist plot - Kitchen sink, Ungrouped, grouped and Stats\n",
    "2. Dist Plot\n",
    "3. Ungrouped Pair plot similar to pandas scatter matrix, \n",
    "4. Grouped pair plot (where possible. No equivalent in Pandas)\n",
    "5. Box Plot\n",
    "6. Violin Plot\n",
    "7. Correlation Heat Map\n",
    "8. Reg Plot (Applicable for continuous dependent variable - unlike here where species is dependent variable)"
   ]
  },
  {
   "cell_type": "code",
   "execution_count": null,
   "id": "f6f1a7eb",
   "metadata": {},
   "outputs": [],
   "source": []
  }
 ],
 "metadata": {
  "kernelspec": {
   "display_name": "Python 3",
   "language": "python",
   "name": "python3"
  },
  "language_info": {
   "codemirror_mode": {
    "name": "ipython",
    "version": 3
   },
   "file_extension": ".py",
   "mimetype": "text/x-python",
   "name": "python",
   "nbconvert_exporter": "python",
   "pygments_lexer": "ipython3",
   "version": "3.8.8"
  }
 },
 "nbformat": 4,
 "nbformat_minor": 5
}
