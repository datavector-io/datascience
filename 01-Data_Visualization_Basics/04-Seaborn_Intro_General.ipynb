{
 "cells": [
  {
   "cell_type": "markdown",
   "id": "4dae8219",
   "metadata": {},
   "source": [
    "# 1. Intro\n",
    "\n",
    "SNS provides a high level interface for drawing over matplotlib\n",
    "\n",
    "\n",
    "## 1.1 Plotting Types\n",
    "\n",
    "Two types of plotting are used with SNS (same as matplotlib)\n",
    "\n",
    "1. Functional Interface\n",
    "2. Object Oriented Interface"
   ]
  },
  {
   "cell_type": "code",
   "execution_count": null,
   "id": "d271f76b",
   "metadata": {},
   "outputs": [],
   "source": [
    "import numpy as np\n",
    "import pandas as pd\n",
    "\n",
    "import matplotlib.pyplot as plt\n",
    "%matplotlib inline\n",
    "\n",
    "import seaborn as sns\n",
    "sns.set(color_codes=True)"
   ]
  },
  {
   "cell_type": "code",
   "execution_count": null,
   "id": "e0985e50",
   "metadata": {},
   "outputs": [],
   "source": [
    "# Figure-level\n",
    "#sns.catplot(data=df, x='Year', y='Sales', height=8, aspect=12)\n",
    "\n",
    "# object-oriented style\n",
    "#f, (ax1, ax2) = plt.subplots(2) \n",
    "#sns.regplot(x, y, ax=ax1) \n",
    "#sns.kdeplot(x, ax=ax2)"
   ]
  },
  {
   "cell_type": "markdown",
   "id": "b54b6027",
   "metadata": {},
   "source": [
    "## 1.2 Categories by plotting function\n",
    "\n",
    "1. “Figure-level” functions: scatterplot, relplot, catplot, displot, pairplot, jointplot, lmplot\n",
    "2. “Axes-level” functions: regplot, boxplot, kdeplot\n",
    "\n",
    "Categorize these by numerical and categorical (TBD)\n",
    "\n",
    "1. Hist plot - Kitchen sink, Ungrouped, grouped and Stats\n",
    "2. Dist Plot\n",
    "3. Ungrouped Pair plot similar to pandas scatter matrix, \n",
    "4. Grouped pair plot (where possible. No equivalent in Pandas)\n",
    "5. Box Plot\n",
    "6. Violin Plot\n",
    "7. Correlation Heat Map\n",
    "8. Reg Plot (Applicable for continuous dependent variable - unlike here where species is dependent variable)"
   ]
  },
  {
   "cell_type": "markdown",
   "id": "d1cc95e4",
   "metadata": {},
   "source": [
    "## 1.3 Load dataset"
   ]
  },
  {
   "cell_type": "code",
   "execution_count": null,
   "id": "b9b6d5b9",
   "metadata": {},
   "outputs": [],
   "source": [
    "tips = sns.load_dataset(\"tips\")  #tips is inbuilt dataset in seaborn\n",
    "tips"
   ]
  },
  {
   "cell_type": "markdown",
   "id": "88760ab5",
   "metadata": {},
   "source": [
    "# 2. Scatter, Rel and Line Plots \n",
    "All these functions return the Facet Grid - a figure level interface"
   ]
  },
  {
   "cell_type": "markdown",
   "id": "7e167a8d",
   "metadata": {},
   "source": [
    "## 2.1 Scatter Plots"
   ]
  },
  {
   "cell_type": "code",
   "execution_count": null,
   "id": "12cd6174",
   "metadata": {},
   "outputs": [],
   "source": [
    "g = sns.scatterplot(x=\"total_bill\", y=\"tip\", data=tips)"
   ]
  },
  {
   "cell_type": "code",
   "execution_count": null,
   "id": "bbf73c99",
   "metadata": {},
   "outputs": [],
   "source": [
    "sns.scatterplot(x=\"total_bill\", y=\"tip\", hue='smoker', data=tips)"
   ]
  },
  {
   "cell_type": "code",
   "execution_count": null,
   "id": "2e83ae7f",
   "metadata": {},
   "outputs": [],
   "source": [
    "sns.scatterplot(x=\"total_bill\", y=\"tip\", hue='smoker', size='tip', data=tips) #size attib shows who paid more tip "
   ]
  },
  {
   "cell_type": "markdown",
   "id": "4f63e934",
   "metadata": {},
   "source": [
    "## 2.2 Rel Plot"
   ]
  },
  {
   "cell_type": "code",
   "execution_count": null,
   "id": "b65f2754",
   "metadata": {},
   "outputs": [],
   "source": [
    "sns.set(style=\"darkgrid\")\n",
    "sns.relplot(x=\"total_bill\", y=\"tip\", data=tips)"
   ]
  },
  {
   "cell_type": "code",
   "execution_count": null,
   "id": "7b241564",
   "metadata": {},
   "outputs": [],
   "source": [
    "#Notice the use of col to break into multiple plots\n",
    "sns.relplot(x=\"total_bill\", y=\"tip\", hue='smoker', col='sex', data=tips) "
   ]
  },
  {
   "cell_type": "markdown",
   "id": "775530de",
   "metadata": {},
   "source": [
    "## 2.3 Line Plot"
   ]
  },
  {
   "cell_type": "code",
   "execution_count": null,
   "id": "dc12a8c2",
   "metadata": {},
   "outputs": [],
   "source": [
    "# notice we use rel plot itself for line\n",
    "g = sns.relplot(x=\"total_bill\", y=\"tip\", kind=\"line\", data=tips)\n",
    "g.fig.autofmt_xdate() #g is used to tilt the x labels"
   ]
  },
  {
   "cell_type": "markdown",
   "id": "1adac475",
   "metadata": {},
   "source": [
    "# 3 Categorical Plots"
   ]
  },
  {
   "cell_type": "markdown",
   "id": "ca00903e",
   "metadata": {},
   "source": [
    "Categorical scatterplots:\n",
    "1. stripplot() (with kind=”strip”; the default)\n",
    "2. swarmplot() (with kind=”swarm”)\n",
    "\n",
    "Categorical distribution plots:\n",
    "1. boxplot() (with kind=”box”)\n",
    "2. violinplot() (with kind=”violin”)\n",
    "3. boxenplot() (with kind=”boxen”)\n",
    "\n",
    "Categorical estimate plots:\n",
    "1. pointplot() (with kind=”point”)\n",
    "2. barplot() (with kind=”bar”)\n",
    "3. countplot() (with kind=”count”)"
   ]
  },
  {
   "cell_type": "markdown",
   "id": "c3f794d2",
   "metadata": {},
   "source": [
    "## 3.1 Strip plot \n",
    "This is the default categorical plot like a scatter plot. adjust the positions of points on the categorical axis with a small amount of random “jitter\""
   ]
  },
  {
   "cell_type": "code",
   "execution_count": null,
   "id": "fafdefe7",
   "metadata": {},
   "outputs": [],
   "source": [
    "sns.catplot(x=\"day\",y=\"total_bill\",data=tips)"
   ]
  },
  {
   "cell_type": "markdown",
   "id": "92a3d69c",
   "metadata": {},
   "source": [
    "## 3.2 Swarm Plot\n",
    "This gives a better representation for dat, although it only works well for relatively small datasets"
   ]
  },
  {
   "cell_type": "code",
   "execution_count": null,
   "id": "20a78f33",
   "metadata": {},
   "outputs": [],
   "source": [
    "sns.catplot(x=\"day\", y=\"total_bill\", kind=\"swarm\", data=tips);"
   ]
  },
  {
   "cell_type": "markdown",
   "id": "654ebb7e",
   "metadata": {},
   "source": [
    "## 3.3 Box Plot"
   ]
  },
  {
   "cell_type": "code",
   "execution_count": null,
   "id": "d05baedb",
   "metadata": {},
   "outputs": [],
   "source": [
    "sns.catplot(x=\"total_bill\",y=\"day\",kind='box',hue='sex',data=tips)"
   ]
  },
  {
   "cell_type": "code",
   "execution_count": null,
   "id": "7565b907",
   "metadata": {},
   "outputs": [],
   "source": [
    "# Breaking Box plot by providing col\n",
    "sns.catplot(x=\"total_bill\", y=\"day\",  kind=\"box\", hue=\"sex\",\n",
    "            col=\"smoker\", aspect=.6, data=tips);"
   ]
  },
  {
   "cell_type": "markdown",
   "id": "15a83049",
   "metadata": {},
   "source": [
    "## 3.4 Violin Plot\n",
    "This approach uses the kernel density estimate to provide a richer description of the distribution of values. Also the quartile and whikser values from boxplot are shown inside the violin. The downside is because the violinplot uses a KDE, there are some other parameters that may need tweaking, adding some complexity relative to the straightforward boxplot"
   ]
  },
  {
   "cell_type": "code",
   "execution_count": null,
   "id": "b6c06732",
   "metadata": {},
   "outputs": [],
   "source": [
    "sns.catplot(x=\"total_bill\",y=\"day\",kind='violin',data=tips) #can also add hue"
   ]
  },
  {
   "cell_type": "code",
   "execution_count": null,
   "id": "2e8b2036",
   "metadata": {},
   "outputs": [],
   "source": [
    "# Violin Plot using sex as hue and with breakdown, no split. just side by side positioning\n",
    "ax= sns.catplot(x=\"total_bill\", y=\"day\", hue=\"sex\", kind=\"violin\", data=tips, \n",
    "                inner=\"stick\", linewidth=1, height=4,aspect=2.5)\n",
    "\n",
    "def set_ax_detail(ax):\n",
    "    ax.fig.suptitle('Total Bill by Day of Week hued by Gender', fontsize=14)\n",
    "    ax.fig.subplots_adjust(left=0.1, top=0.9)\n",
    "    ax.set_xlabels('Total  Bill')\n",
    "    ax.set_ylabels('Day of Week')\n",
    "    ax.set_xticklabels(fontsize=12)\n",
    "    ax.set_yticklabels(fontsize=12)\n",
    "    ax._legend.set_title('Gender')\n",
    "    \n",
    "set_ax_detail(ax)"
   ]
  },
  {
   "cell_type": "code",
   "execution_count": null,
   "id": "e7e78abc",
   "metadata": {},
   "outputs": [],
   "source": [
    "# Violin Plot using sex as hue and with breakdown and split, custom palette\n",
    "ax= sns.catplot(x=\"total_bill\", y=\"day\", hue=\"sex\", kind=\"violin\", data=tips, \n",
    "                split=True, inner=\"stick\", palette=\"mako\", linewidth=1,\n",
    "                height=4,aspect=2.5)\n",
    "set_ax_detail(ax)"
   ]
  },
  {
   "cell_type": "markdown",
   "id": "03f38607",
   "metadata": {},
   "source": [
    "## 3.5 Bar Plot"
   ]
  },
  {
   "cell_type": "code",
   "execution_count": null,
   "id": "0af8b95e",
   "metadata": {},
   "outputs": [],
   "source": [
    "sns.catplot(x=\"day\",y=\"total_bill\",kind='bar',data=tips) #can also add hue"
   ]
  },
  {
   "cell_type": "code",
   "execution_count": null,
   "id": "47f50641",
   "metadata": {},
   "outputs": [],
   "source": [
    "sns.catplot(x=\"day\",y=\"total_bill\", kind='bar', hue='sex', data=tips)"
   ]
  },
  {
   "cell_type": "markdown",
   "id": "189666ac",
   "metadata": {},
   "source": [
    "## 3.6 Count Plot\n",
    "\n",
    "A special case for the bar plot is when you want to show the number of observations in each category rather than computing a statistic for a second variable"
   ]
  },
  {
   "cell_type": "code",
   "execution_count": null,
   "id": "a7754056",
   "metadata": {},
   "outputs": [],
   "source": [
    "sns.catplot(x=\"day\", kind='count', hue='sex', data=tips)"
   ]
  },
  {
   "cell_type": "markdown",
   "id": "94c11979",
   "metadata": {},
   "source": [
    "# 4 Others - TBD"
   ]
  },
  {
   "cell_type": "markdown",
   "id": "be3cd0f7",
   "metadata": {},
   "source": [
    "TODO: Other plots from here will give a good coverage\n",
    "https://jakevdp.github.io/PythonDataScienceHandbook/04.14-visualization-with-seaborn.html"
   ]
  },
  {
   "cell_type": "code",
   "execution_count": null,
   "id": "7690d784",
   "metadata": {},
   "outputs": [],
   "source": []
  }
 ],
 "metadata": {
  "kernelspec": {
   "display_name": "Python 3",
   "language": "python",
   "name": "python3"
  },
  "language_info": {
   "codemirror_mode": {
    "name": "ipython",
    "version": 3
   },
   "file_extension": ".py",
   "mimetype": "text/x-python",
   "name": "python",
   "nbconvert_exporter": "python",
   "pygments_lexer": "ipython3",
   "version": "3.8.8"
  }
 },
 "nbformat": 4,
 "nbformat_minor": 5
}
