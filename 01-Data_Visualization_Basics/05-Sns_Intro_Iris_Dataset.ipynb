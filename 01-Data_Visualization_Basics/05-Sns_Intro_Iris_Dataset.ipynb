{
 "cells": [
  {
   "cell_type": "code",
   "execution_count": null,
   "id": "f3c790fe",
   "metadata": {},
   "outputs": [],
   "source": [
    "import numpy as np\n",
    "import pandas as pd\n",
    "\n",
    "import matplotlib.pyplot as plt\n",
    "%matplotlib inline\n",
    "\n",
    "import seaborn as sns\n",
    "sns.set(color_codes=True)"
   ]
  },
  {
   "cell_type": "markdown",
   "id": "a85ac43d",
   "metadata": {},
   "source": [
    "## Load Iris dataset already embedded in seaborn using Pandas\n",
    "\n",
    "Note: This already contains the headers in csv and so we need not supply headers like we did with local csv in 01-Iris_Dataset_Analysis"
   ]
  },
  {
   "cell_type": "code",
   "execution_count": null,
   "id": "8e2b000e",
   "metadata": {},
   "outputs": [],
   "source": [
    "iris = sns.load_dataset('iris')\n",
    "iris.head()"
   ]
  },
  {
   "cell_type": "code",
   "execution_count": null,
   "id": "217786a5",
   "metadata": {},
   "outputs": [],
   "source": [
    "type(iris) # regardless of where we load, this is still a Pandas Dataframe"
   ]
  },
  {
   "cell_type": "code",
   "execution_count": null,
   "id": "3a42d171",
   "metadata": {},
   "outputs": [],
   "source": [
    "iris.info()"
   ]
  },
  {
   "cell_type": "code",
   "execution_count": null,
   "id": "658382e8",
   "metadata": {},
   "outputs": [],
   "source": [
    "iris.describe()"
   ]
  },
  {
   "cell_type": "code",
   "execution_count": null,
   "id": "86cd1b9e",
   "metadata": {},
   "outputs": [],
   "source": [
    "iris.groupby('species').size() # a sino"
   ]
  },
  {
   "cell_type": "code",
   "execution_count": null,
   "id": "ba56ecb5",
   "metadata": {},
   "outputs": [],
   "source": [
    "# Covariance matrix (This is visualized by pair plot below - 2 types and heatmap)\n",
    "iris.corr() "
   ]
  },
  {
   "cell_type": "markdown",
   "id": "87b85e58",
   "metadata": {},
   "source": [
    "## Visualization with Seaborn\n",
    "\n",
    "1. Hist plot - Kitchen sink, Ungrouped, grouped and Stats\n",
    "2. Dist Plot\n",
    "3. Ungrouped Pair plot similar to pandas scatter matrix, \n",
    "4. Grouped pair plot (where possible. No equivalent in Pandas)\n",
    "5. Box Plot\n",
    "6. Violin Plot\n",
    "7. Correlation Heat Map\n",
    "8. Reg Plot (Applicable for continuous dependent variable - unlike here where species is dependent variable)"
   ]
  },
  {
   "cell_type": "markdown",
   "id": "1932e161",
   "metadata": {},
   "source": [
    "### 1.1 Kitchensink Histplot"
   ]
  },
  {
   "cell_type": "code",
   "execution_count": null,
   "id": "26491c6d",
   "metadata": {},
   "outputs": [],
   "source": [
    "sns.histplot(iris) # mixed histogram for all x - not much useful"
   ]
  },
  {
   "cell_type": "markdown",
   "id": "ee1d11ab",
   "metadata": {},
   "source": [
    "### 1.2 Ungrouped Histplot"
   ]
  },
  {
   "cell_type": "code",
   "execution_count": null,
   "id": "bb1f3197",
   "metadata": {},
   "outputs": [],
   "source": [
    "#Multiple type of histplots laid in a nice grid - ALL FOR UNGROUPED\n",
    "\n",
    "plt.figure(figsize=(12,12))\n",
    "\n",
    "plt.subplot(2,2,1)\n",
    "sns.histplot(iris, x='sepal_length') #histograms for a given x, ungrouped\n",
    "\n",
    "plt.subplot(2,2,2)\n",
    "# histogram for a given x grouped by species\n",
    "sns.histplot(data=iris, x='sepal_length', kde=True) #histograms for a given x, ungrouped\n",
    "\n",
    "plt.subplot(2,2,3)\n",
    "sns.histplot(data=iris, y=\"petal_length\")\n",
    "\n",
    "plt.subplot(2,2,4)\n",
    "sns.histplot(data=iris, y=\"petal_length\", kde=True)"
   ]
  },
  {
   "cell_type": "markdown",
   "id": "43c5959f",
   "metadata": {},
   "source": [
    "### 1.3 Grouped Histplot"
   ]
  },
  {
   "cell_type": "code",
   "execution_count": null,
   "id": "bf2caefa",
   "metadata": {
    "scrolled": false
   },
   "outputs": [],
   "source": [
    "#Multiple type of histplots laid in a nice grid - GROUPED\n",
    "\n",
    "plt.figure(figsize=(20,20))\n",
    "\n",
    "plt.subplot(4,2,1)\n",
    "# histogram for a given x grouped by species\n",
    "sns.histplot(data=iris, x='sepal_length', hue=\"species\")\n",
    "\n",
    "plt.subplot(4,2,2)\n",
    "# histogram for a given x grouped by species\n",
    "sns.histplot(iris, x='sepal_length', hue=\"species\", multiple=\"stack\")\n",
    "\n",
    "plt.subplot(4,2,3)\n",
    "sns.histplot(data=iris, x='sepal_length', hue=\"species\", kde=True)\n",
    "\n",
    "plt.subplot(4,2,4)\n",
    "sns.histplot(iris, x=\"sepal_length\", hue=\"species\", element=\"step\")\n",
    "\n",
    "plt.subplot(4,2,5)\n",
    "sns.histplot(iris, x=\"sepal_length\", hue=\"species\", element=\"poly\")\n",
    "\n",
    "plt.subplot(4,2,6)\n",
    "sns.histplot(data=iris, x=\"sepal_length\", hue=\"species\", multiple=\"dodge\", shrink=.8)\n",
    "\n",
    "plt.subplot(4,2,7)\n",
    "# histogram for a given x grouped by species\n",
    "sns.histplot(data=iris, y=\"petal_length\", hue=\"species\")\n",
    "\n",
    "plt.subplot(4,2,8)\n",
    "sns.histplot(data=iris, x=\"sepal_length\", hue=\"species\", multiple=\"dodge\", shrink=.8, kde=True)"
   ]
  },
  {
   "cell_type": "markdown",
   "id": "1decf320",
   "metadata": {},
   "source": [
    "### 1.4 Stat Histplot"
   ]
  },
  {
   "cell_type": "code",
   "execution_count": null,
   "id": "2c57c806",
   "metadata": {},
   "outputs": [],
   "source": [
    "#Multiple type of histplots laid in a nice grid - STATISTICS HIST PLOTS\n",
    "\n",
    "plt.figure(figsize=(12,8))\n",
    "\n",
    "plt.subplot(2,2,1)\n",
    "#stat one of count, probability density, ...\n",
    "sns.histplot(data=iris, x=\"sepal_length\", stat=\"probability\", discrete=True)\n",
    "\n",
    "plt.subplot(2,2,2)\n",
    "#Density plot\n",
    "sns.histplot(\n",
    "    iris, x=\"petal_length\", hue=\"species\", element=\"step\",\n",
    "    stat=\"density\", common_norm=False,\n",
    ")\n",
    "\n",
    "plt.subplot(2,2,3)\n",
    "sns.histplot(data=iris, x=\"sepal_length\", log_scale=True) #logScale - good option for high variance in y val plots\n",
    "\n",
    "plt.subplot(2,2,4)\n",
    "sns.histplot(\n",
    "    data=iris, x=\"sepal_length\", hue=\"species\",\n",
    "    hue_order=[\"setosa\", \"virginica\", \"versicolor\"],\n",
    "    element=\"step\", fill=False,\n",
    "    cumulative=True, stat=\"density\", common_norm=False,\n",
    ")"
   ]
  },
  {
   "cell_type": "markdown",
   "id": "1049e903",
   "metadata": {},
   "source": [
    "### 2. Dist Plot"
   ]
  },
  {
   "cell_type": "code",
   "execution_count": null,
   "id": "365e1f3b",
   "metadata": {},
   "outputs": [],
   "source": [
    "sns.distplot(iris['sepal_length']); #same as hist plot with kde=True"
   ]
  },
  {
   "cell_type": "markdown",
   "id": "9f91ba45",
   "metadata": {},
   "source": [
    "### 3.1 Ungrouped Pairplot "
   ]
  },
  {
   "cell_type": "code",
   "execution_count": null,
   "id": "36ed38d7",
   "metadata": {},
   "outputs": [],
   "source": [
    "sns.pairplot(iris)"
   ]
  },
  {
   "cell_type": "markdown",
   "id": "003f6893",
   "metadata": {},
   "source": [
    "### 3.2 Grouped Pairplot "
   ]
  },
  {
   "cell_type": "code",
   "execution_count": null,
   "id": "14e6c3ce",
   "metadata": {},
   "outputs": [],
   "source": [
    "sns.pairplot(iris, hue='species')"
   ]
  },
  {
   "cell_type": "code",
   "execution_count": null,
   "id": "d0f4d597",
   "metadata": {},
   "outputs": [],
   "source": [
    "sns.pairplot(iris, hue='species', height=3, aspect=1)"
   ]
  },
  {
   "cell_type": "markdown",
   "id": "8f941255",
   "metadata": {},
   "source": [
    "### 4. Box plot"
   ]
  },
  {
   "cell_type": "code",
   "execution_count": null,
   "id": "7fe040ef",
   "metadata": {},
   "outputs": [],
   "source": [
    "plt.figure(figsize=(12,8))\n",
    "\n",
    "plt.subplot(2,2,1)\n",
    "sns.boxplot(y=\"sepal_length\", data=iris)\n",
    "\n",
    "plt.subplot(2,2,2)\n",
    "sns.boxplot(x=\"sepal_length\", data=iris)\n",
    "\n",
    "plt.subplot(2,2,3)\n",
    "sns.boxplot(y=\"petal_length\", data=iris)\n",
    "\n",
    "plt.subplot(2,2,4)\n",
    "sns.boxplot(x=\"petal_width\", data=iris)\n"
   ]
  },
  {
   "cell_type": "code",
   "execution_count": null,
   "id": "ea90db66",
   "metadata": {},
   "outputs": [],
   "source": [
    "f, ax = plt.subplots(figsize=(8, 6))\n",
    "fig = sns.boxplot(x=\"sepal_width\", y=\"sepal_length\", data=iris)"
   ]
  },
  {
   "cell_type": "code",
   "execution_count": null,
   "id": "8c8c7178",
   "metadata": {},
   "outputs": [],
   "source": [
    "var = \"Distrib\"\n",
    "f, ax = plt.subplots(figsize=(8, 6))\n",
    "fig = sns.boxplot(x=\"sepal_width\", y=\"sepal_length\", hue=\"species\", data=iris)"
   ]
  },
  {
   "cell_type": "markdown",
   "id": "9a8741e1",
   "metadata": {},
   "source": [
    "### 5. Violin Plot "
   ]
  },
  {
   "cell_type": "code",
   "execution_count": null,
   "id": "04bf7a40",
   "metadata": {},
   "outputs": [],
   "source": [
    "plt.figure(figsize=(12,8))\n",
    "plt.subplot(2,2,1)\n",
    "sns.violinplot(x='species', y='sepal_length', data=iris)\n",
    "plt.subplot(2,2,2)\n",
    "sns.violinplot(x='species', y='sepal_width', data=iris)\n",
    "plt.subplot(2,2,3)\n",
    "sns.violinplot(x='species', y='petal_length', data=iris)\n",
    "plt.subplot(2,2,4)\n",
    "sns.violinplot(x='species', y='petal_width', data=iris)"
   ]
  },
  {
   "cell_type": "markdown",
   "id": "6e272fcc",
   "metadata": {},
   "source": [
    "### 5. Heatmap"
   ]
  },
  {
   "cell_type": "code",
   "execution_count": null,
   "id": "eec08565",
   "metadata": {},
   "outputs": [],
   "source": [
    "sns.heatmap(iris.corr(), annot=True)\n",
    "plt.show()"
   ]
  },
  {
   "cell_type": "code",
   "execution_count": null,
   "id": "c06e8481",
   "metadata": {},
   "outputs": [],
   "source": [
    "# Since correlation matrix is symmetric, see only the required part and hide the symmetric side\n",
    "\n",
    "correlation = abs(iris.corr())\n",
    "mask = np.zeros_like(correlation, dtype=bool)\n",
    "mask[np.triu_indices_from(mask)] = True\n",
    "\n",
    "sns.heatmap(correlation, \n",
    "            cmap='coolwarm', \n",
    "            annot=True, \n",
    "            fmt=\".2f\", \n",
    "            annot_kws={\"size\": 15}, \n",
    "            linewidths=2, \n",
    "            vmin=-1.5, \n",
    "            mask=mask,\n",
    "           center=0)"
   ]
  },
  {
   "cell_type": "code",
   "execution_count": null,
   "id": "c9725f4a",
   "metadata": {},
   "outputs": [],
   "source": [
    "# Same as above with changed style\n",
    "\n",
    "correlation = abs(iris.corr())\n",
    "mask = np.zeros_like(correlation, dtype=bool)\n",
    "mask[np.triu_indices_from(mask)] = True\n",
    "\n",
    "sns.set_style('whitegrid')\n",
    "plt.xticks(fontsize=20)\n",
    "\n",
    "sns.heatmap(correlation, \n",
    "            cmap='coolwarm', \n",
    "            annot=True, \n",
    "            fmt=\".2f\", \n",
    "            annot_kws={\"size\": 15}, \n",
    "            linewidths=2, \n",
    "            vmin=-1.5, \n",
    "            mask=mask,\n",
    "           center=0)"
   ]
  },
  {
   "cell_type": "markdown",
   "id": "2de58098",
   "metadata": {},
   "source": [
    "### 6. Reg Plot"
   ]
  },
  {
   "cell_type": "code",
   "execution_count": null,
   "id": "886129ac",
   "metadata": {},
   "outputs": [],
   "source": [
    "# create some random data\n",
    "x = np.random.randn(100)\n",
    "rand_array = np.random.randn(100)\n",
    "print(type(rand_array))\n",
    "print(rand_array.shape)\n",
    "y = 3 * x + rand_array\n",
    "\n",
    "plt.figure(figsize=(12,10))\n",
    "sns.regplot(x,y)\n",
    "plt.xlabel('avg num of rooms')\n",
    "plt.ylabel('Median house value in K')\n",
    "plt.show()"
   ]
  },
  {
   "cell_type": "markdown",
   "id": "81f5ce9b",
   "metadata": {},
   "source": [
    "### 7. Joint Plot"
   ]
  },
  {
   "cell_type": "code",
   "execution_count": null,
   "id": "d6a52063",
   "metadata": {},
   "outputs": [],
   "source": [
    "sns.jointplot(x=iris.sepal_length, y=iris.petal_length, data=\"iris\", kind='reg', height=10)\n",
    "plt.show()"
   ]
  },
  {
   "cell_type": "markdown",
   "id": "912106fc",
   "metadata": {},
   "source": [
    "## Stats Plot Demo"
   ]
  },
  {
   "cell_type": "code",
   "execution_count": null,
   "id": "d61fc316",
   "metadata": {},
   "outputs": [],
   "source": [
    "from scipy import stats\n",
    "\n",
    "res = stats.probplot(iris['sepal_length'], plot=plt)"
   ]
  }
 ],
 "metadata": {
  "kernelspec": {
   "display_name": "Python 3",
   "language": "python",
   "name": "python3"
  },
  "language_info": {
   "codemirror_mode": {
    "name": "ipython",
    "version": 3
   },
   "file_extension": ".py",
   "mimetype": "text/x-python",
   "name": "python",
   "nbconvert_exporter": "python",
   "pygments_lexer": "ipython3",
   "version": "3.8.8"
  }
 },
 "nbformat": 4,
 "nbformat_minor": 5
}
