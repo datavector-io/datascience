{
 "cells": [
  {
   "cell_type": "code",
   "execution_count": null,
   "id": "f3c790fe",
   "metadata": {},
   "outputs": [],
   "source": [
    "import numpy as np\n",
    "import pandas as pd\n",
    "\n",
    "import matplotlib.pyplot as plt\n",
    "%matplotlib inline\n",
    "\n",
    "import seaborn as sns\n",
    "sns.set(color_codes=True)"
   ]
  },
  {
   "cell_type": "markdown",
   "id": "a85ac43d",
   "metadata": {},
   "source": [
    "## Load Iris dataset already embedded in seaborn using Pandas\n",
    "\n",
    "Note: This already contains the headers in csv and so we need not supply headers like we did with local csv in 01-Iris_Dataset_Analysis"
   ]
  },
  {
   "cell_type": "code",
   "execution_count": null,
   "id": "8e2b000e",
   "metadata": {},
   "outputs": [],
   "source": [
    "iris = sns.load_dataset('iris')\n",
    "iris.head()"
   ]
  },
  {
   "cell_type": "code",
   "execution_count": null,
   "id": "9934c294",
   "metadata": {},
   "outputs": [],
   "source": [
    "type(iris) # regardless of where we load, this is still a Pandas Dataframe"
   ]
  },
  {
   "cell_type": "code",
   "execution_count": null,
   "id": "3a42d171",
   "metadata": {},
   "outputs": [],
   "source": [
    "iris.info()"
   ]
  },
  {
   "cell_type": "code",
   "execution_count": null,
   "id": "658382e8",
   "metadata": {},
   "outputs": [],
   "source": [
    "iris.describe()"
   ]
  },
  {
   "cell_type": "code",
   "execution_count": null,
   "id": "86cd1b9e",
   "metadata": {},
   "outputs": [],
   "source": [
    "iris.groupby('species').size() # a sino"
   ]
  },
  {
   "cell_type": "code",
   "execution_count": null,
   "id": "a61994d3",
   "metadata": {},
   "outputs": [],
   "source": [
    "# Covariance matrix (This is visualized by pair plot below - 2 types and heatmap)\n",
    "iris.corr() "
   ]
  },
  {
   "cell_type": "markdown",
   "id": "87b85e58",
   "metadata": {},
   "source": [
    "## Visualization with Seaborn\n",
    "\n",
    "1. Hist plot - Kitchen sink, Ungrouped and grouped\n",
    "2. Ungrouped Pair plot similar to pandas scatter matrix, \n",
    "3. Grouped pair plot (where possible. No equivalent in Pandas)\n",
    "4. Violin Plot\n",
    "5. Correlation Heat Map\n",
    "6. Reg Plot (Applicable for continuous dependent variable - unlike here where species is dependent variable)"
   ]
  },
  {
   "cell_type": "code",
   "execution_count": null,
   "id": "a812f392",
   "metadata": {},
   "outputs": [],
   "source": [
    "sns.histplot(iris) # mixed histogram for all x - not much useful"
   ]
  },
  {
   "cell_type": "code",
   "execution_count": null,
   "id": "5ba3bf29",
   "metadata": {},
   "outputs": [],
   "source": [
    "#Multiple type of histplots laid in a nice grid - ALL FOR UNGROUPED\n",
    "\n",
    "plt.figure(figsize=(12,12))\n",
    "\n",
    "plt.subplot(2,2,1)\n",
    "sns.histplot(iris, x='sepal_length') #histograms for a given x, ungrouped\n",
    "\n",
    "plt.subplot(2,2,2)\n",
    "# histogram for a given x grouped by species\n",
    "sns.histplot(data=iris, x='sepal_length', kde=True) #histograms for a given x, ungrouped\n",
    "\n",
    "plt.subplot(2,2,3)\n",
    "sns.histplot(data=iris, y=\"petal_length\")\n",
    "\n",
    "plt.subplot(2,2,4)\n",
    "sns.histplot(data=iris, y=\"petal_length\", kde=True)"
   ]
  },
  {
   "cell_type": "code",
   "execution_count": null,
   "id": "f513b72e",
   "metadata": {
    "scrolled": false
   },
   "outputs": [],
   "source": [
    "#Multiple type of histplots laid in a nice grid - GROUPED\n",
    "\n",
    "plt.figure(figsize=(20,20))\n",
    "\n",
    "plt.subplot(4,2,1)\n",
    "# histogram for a given x grouped by species\n",
    "sns.histplot(data=iris, x='sepal_length', hue=\"species\")\n",
    "\n",
    "plt.subplot(4,2,2)\n",
    "# histogram for a given x grouped by species\n",
    "sns.histplot(iris, x='sepal_length', hue=\"species\", multiple=\"stack\")\n",
    "\n",
    "plt.subplot(4,2,3)\n",
    "sns.histplot(data=iris, x='sepal_length', hue=\"species\", kde=True)\n",
    "\n",
    "plt.subplot(4,2,4)\n",
    "sns.histplot(iris, x=\"sepal_length\", hue=\"species\", element=\"step\")\n",
    "\n",
    "plt.subplot(4,2,5)\n",
    "sns.histplot(iris, x=\"sepal_length\", hue=\"species\", element=\"poly\")\n",
    "\n",
    "plt.subplot(4,2,6)\n",
    "sns.histplot(data=iris, x=\"sepal_length\", hue=\"species\", multiple=\"dodge\", shrink=.8)\n",
    "\n",
    "plt.subplot(4,2,7)\n",
    "# histogram for a given x grouped by species\n",
    "sns.histplot(data=iris, y=\"petal_length\", hue=\"species\")\n",
    "\n",
    "plt.subplot(4,2,8)\n",
    "sns.histplot(data=iris, x=\"sepal_length\", hue=\"species\", multiple=\"dodge\", shrink=.8, kde=True)"
   ]
  },
  {
   "cell_type": "code",
   "execution_count": null,
   "id": "c70e021a",
   "metadata": {},
   "outputs": [],
   "source": [
    "#Multiple type of histplots laid in a nice grid - STATISTICS HIST PLOTS\n",
    "\n",
    "plt.figure(figsize=(12,8))\n",
    "\n",
    "plt.subplot(2,2,1)\n",
    "#stat one of count, probability density, ...\n",
    "sns.histplot(data=iris, x=\"sepal_length\", stat=\"probability\", discrete=True)\n",
    "\n",
    "plt.subplot(2,2,2)\n",
    "#Density plot\n",
    "sns.histplot(\n",
    "    iris, x=\"petal_length\", hue=\"species\", element=\"step\",\n",
    "    stat=\"density\", common_norm=False,\n",
    ")\n",
    "\n",
    "plt.subplot(2,2,3)\n",
    "sns.histplot(data=iris, x=\"sepal_length\", log_scale=True) #logScale - good option for high variance in y val plots\n",
    "\n",
    "plt.subplot(2,2,4)\n",
    "sns.histplot(\n",
    "    data=iris, x=\"sepal_length\", hue=\"species\",\n",
    "    hue_order=[\"setosa\", \"virginica\", \"versicolor\"],\n",
    "    element=\"step\", fill=False,\n",
    "    cumulative=True, stat=\"density\", common_norm=False,\n",
    ")\n"
   ]
  },
  {
   "cell_type": "code",
   "execution_count": null,
   "id": "36ed38d7",
   "metadata": {},
   "outputs": [],
   "source": [
    "sns.pairplot(iris)"
   ]
  },
  {
   "cell_type": "code",
   "execution_count": null,
   "id": "14e6c3ce",
   "metadata": {},
   "outputs": [],
   "source": [
    "sns.pairplot(iris, hue='species')"
   ]
  },
  {
   "cell_type": "code",
   "execution_count": null,
   "id": "d0f4d597",
   "metadata": {},
   "outputs": [],
   "source": [
    "sns.pairplot(iris, hue='species', height=3, aspect=1)"
   ]
  },
  {
   "cell_type": "code",
   "execution_count": null,
   "id": "04bf7a40",
   "metadata": {},
   "outputs": [],
   "source": [
    "plt.figure(figsize=(12,8))\n",
    "plt.subplot(2,2,1)\n",
    "sns.violinplot(x='species', y='sepal_length', data=iris)\n",
    "plt.subplot(2,2,2)\n",
    "sns.violinplot(x='species', y='sepal_width', data=iris)\n",
    "plt.subplot(2,2,3)\n",
    "sns.violinplot(x='species', y='petal_length', data=iris)\n",
    "plt.subplot(2,2,4)\n",
    "sns.violinplot(x='species', y='petal_width', data=iris)"
   ]
  },
  {
   "cell_type": "code",
   "execution_count": null,
   "id": "d6a52063",
   "metadata": {},
   "outputs": [],
   "source": [
    "sns.heatmap(iris.corr(), annot=True)\n",
    "plt.show()"
   ]
  },
  {
   "cell_type": "markdown",
   "id": "9d55ad60",
   "metadata": {},
   "source": [
    "## Matplot Demo"
   ]
  },
  {
   "cell_type": "code",
   "execution_count": null,
   "id": "933cf349",
   "metadata": {},
   "outputs": [],
   "source": [
    "# create some random data\n",
    "x = np.random.randn(100)\n",
    "rand_array = np.random.randn(100)\n",
    "print(type(rand_array))\n",
    "print(rand_array.shape)\n",
    "y = 3 * x + rand_array\n",
    "y"
   ]
  },
  {
   "cell_type": "code",
   "execution_count": null,
   "id": "bad296d0",
   "metadata": {},
   "outputs": [],
   "source": [
    "plt.scatter(x,y) #v matplotlib scatter"
   ]
  },
  {
   "cell_type": "code",
   "execution_count": null,
   "id": "30ea2a39",
   "metadata": {},
   "outputs": [],
   "source": [
    "# matplotlib plot\n",
    "T = np.array([6, 7, 8, 9, 10, 11, 12])\n",
    "power = np.array([1.53E+03, 5.92E+02, 2.04E+02, 7.24E+01, 2.72E+01, 1.10E+01, 4.70E+00])\n",
    "\n",
    "plt.plot(T,power)\n",
    "plt.show()"
   ]
  },
  {
   "cell_type": "code",
   "execution_count": null,
   "id": "4d2d563a",
   "metadata": {},
   "outputs": [],
   "source": [
    "\n",
    "from scipy.interpolate import make_interp_spline, BSpline\n",
    "# 300 represents number of points to make between T.min and T.max\n",
    "xnew = np.linspace(T.min(), T.max(), 300) \n",
    "\n",
    "spl = make_interp_spline(T, power, k=3)  # type: BSpline\n",
    "power_smooth = spl(xnew)\n",
    "\n",
    "plt.plot(xnew, power_smooth)\n",
    "plt.show()"
   ]
  },
  {
   "cell_type": "markdown",
   "id": "898e5b29",
   "metadata": {},
   "source": [
    "## Reg Plot Demo"
   ]
  },
  {
   "cell_type": "code",
   "execution_count": null,
   "id": "6c2532d1",
   "metadata": {},
   "outputs": [],
   "source": [
    "# create some random data\n",
    "x = np.random.randn(100)\n",
    "rand_array = np.random.randn(100)\n",
    "print(type(rand_array))\n",
    "print(rand_array.shape)\n",
    "y = 3 * x + rand_array\n",
    "\n",
    "plt.figure(figsize=(12,10))\n",
    "sns.regplot(x,y)\n",
    "plt.xlabel('avg num of rooms')\n",
    "plt.ylabel('Median house value in K')\n",
    "plt.show()"
   ]
  },
  {
   "cell_type": "code",
   "execution_count": null,
   "id": "92ca63c4",
   "metadata": {},
   "outputs": [],
   "source": [
    "sns.jointplot(x=iris.sepal_length, y=iris.petal_length, data=\"iris\", kind='reg', height=10)\n",
    "plt.show()"
   ]
  },
  {
   "cell_type": "code",
   "execution_count": null,
   "id": "022945ff",
   "metadata": {},
   "outputs": [],
   "source": []
  }
 ],
 "metadata": {
  "kernelspec": {
   "display_name": "Python 3",
   "language": "python",
   "name": "python3"
  },
  "language_info": {
   "codemirror_mode": {
    "name": "ipython",
    "version": 3
   },
   "file_extension": ".py",
   "mimetype": "text/x-python",
   "name": "python",
   "nbconvert_exporter": "python",
   "pygments_lexer": "ipython3",
   "version": "3.8.8"
  }
 },
 "nbformat": 4,
 "nbformat_minor": 5
}
