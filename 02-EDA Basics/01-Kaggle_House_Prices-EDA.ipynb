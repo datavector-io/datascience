{
 "cells": [
  {
   "cell_type": "code",
   "execution_count": null,
   "id": "632a3a35",
   "metadata": {},
   "outputs": [],
   "source": [
    "%matplotlib inline\n",
    "\n",
    "import numpy as np\n",
    "import pandas as pd \n",
    "\n",
    "import matplotlib.pyplot as plt\n",
    "import scipy.stats as stats\n",
    "\n",
    "import seaborn as sns\n",
    "sns.set(color_codes=True)\n",
    "\n",
    "# Generally XGBoost is not present in anaconda  install.\n",
    "# Use this command to install from command line and restart anaconda\n",
    "# conda install -c conda-forge xgboost\n",
    "import xgboost as xgb\n",
    "\n",
    "from IPython.display import HTML, display\n",
    "\n",
    "import sklearn.linear_model as linear_model\n",
    "from sklearn.model_selection import KFold\n",
    "from sklearn.manifold import TSNE\n",
    "from sklearn.cluster import KMeans\n",
    "from sklearn.decomposition import PCA\n",
    "from sklearn.preprocessing import StandardScaler"
   ]
  },
  {
   "cell_type": "markdown",
   "id": "fe1485bb",
   "metadata": {},
   "source": [
    "## EDA\n",
    "\n",
    "#### In scope for this \n",
    "1. Understand variables\n",
    "2. Univariate Analysis\n",
    "3. Bivariate Analysis\n",
    "4. Multicollinearity\n",
    "5. Homoskedasticity\n",
    "\n",
    "#### Not in scope\n",
    "1. Data Cleaning\n",
    "2. Data Scaling (Normalization)\n",
    "\n",
    "##### NOTE: This is inspired from Kaggle contest https://www.kaggle.com/c/house-prices-advanced-regression-techniques/\n",
    "1. train.csv from this contest is used to demonstrate basic EDA (renamed as houseprices.csv)\n",
    "2. https://www.kaggle.com/c/house-prices-advanced-regression-techniques/overview/tutorials\n",
    "3. https://www.kaggle.com/pmarcelino/comprehensive-data-exploration-with-python\n",
    "4. https://www.kaggle.com/dgawlik/house-prices-eda"
   ]
  },
  {
   "cell_type": "code",
   "execution_count": null,
   "id": "a0531d2c",
   "metadata": {},
   "outputs": [],
   "source": [
    "df = pd.read_csv('houseprices.csv') # This works only locally\n",
    "# df = pd.read_csv(\"https://raw.githubusercontent.com/datavector-io/datascience/main/02-EDA-Basics/houseprices.csv\")\n",
    "df.head()"
   ]
  },
  {
   "cell_type": "code",
   "execution_count": null,
   "id": "18a803b8",
   "metadata": {},
   "outputs": [],
   "source": [
    "df.columns"
   ]
  },
  {
   "cell_type": "code",
   "execution_count": null,
   "id": "3fe10ac5",
   "metadata": {},
   "outputs": [],
   "source": [
    "df.info()"
   ]
  },
  {
   "cell_type": "code",
   "execution_count": null,
   "id": "2065212f",
   "metadata": {},
   "outputs": [],
   "source": [
    "df.describe()"
   ]
  }
 ],
 "metadata": {
  "kernelspec": {
   "display_name": "Python 3",
   "language": "python",
   "name": "python3"
  },
  "language_info": {
   "codemirror_mode": {
    "name": "ipython",
    "version": 3
   },
   "file_extension": ".py",
   "mimetype": "text/x-python",
   "name": "python",
   "nbconvert_exporter": "python",
   "pygments_lexer": "ipython3",
   "version": "3.8.8"
  }
 },
 "nbformat": 4,
 "nbformat_minor": 5
}
