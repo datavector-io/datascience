{
 "cells": [
  {
   "cell_type": "code",
   "execution_count": null,
   "id": "4d452b45",
   "metadata": {},
   "outputs": [],
   "source": [
    "import numpy as np\n",
    "import pandas as pd\n",
    "\n",
    "import matplotlib.pyplot as plt\n",
    "%matplotlib inline\n",
    "\n",
    "import seaborn as sns\n",
    "sns.set(color_codes=True)\n",
    "\n",
    "from sklearn.datasets import load_boston"
   ]
  },
  {
   "cell_type": "markdown",
   "id": "b2e3c0af",
   "metadata": {},
   "source": [
    "## Intro and understanding data "
   ]
  },
  {
   "cell_type": "code",
   "execution_count": null,
   "id": "ac0c158b",
   "metadata": {},
   "outputs": [],
   "source": [
    "# This commented code will work only locally\n",
    "#df = pd.read_csv('housing.data', delim_whitespace=True, header=None)\n",
    "#col_names = [ 'CRIM', 'ZN', 'INDUS', 'CHAS', 'NOX', 'RM', 'AGE', \n",
    "#             'DIS', 'RAD', 'TAX', 'PTRATIO', 'B', 'LSTAT', 'MEDV']\n",
    "#df.columns = col_names\n",
    "\n",
    "data, target = load_boston(return_X_y=True) # here boston housing price is loaded from sklearn\n",
    "df = pd.DataFrame(data, columns=load_boston().feature_names)\n",
    "df['MEDV'] = target\n",
    "df.head()"
   ]
  },
  {
   "cell_type": "markdown",
   "id": "4d8043f3",
   "metadata": {},
   "source": [
    "    1. CRIM      per capita crime rate by town\n",
    "    2. ZN        proportion of residential land zoned for lots over 25,000 sq.ft.\n",
    "    3. INDUS     proportion of non-retail business acres per town\n",
    "    4. CHAS      Charles River dummy variable (= 1 if tract bounds river; 0 otherwise)\n",
    "    5. NOX       nitric oxides concentration (parts per 10 million)\n",
    "    6. RM        average number of rooms per dwelling\n",
    "    7. AGE       proportion of owner-occupied units built prior to 1940\n",
    "    8. DIS       weighted distances to five Boston employment centres\n",
    "    9. RAD       index of accessibility to radial highways\n",
    "    10. TAX      full-value property-tax rate per 10K USD\n",
    "    11. PTRATIO  pupil-teacher ratio by town\n",
    "    12. B        1000(Bk - 0.63)^2 where Bk is the proportion of blacks by town\n",
    "    13. LSTAT    % lower status of the population\n",
    "    14. MEDV     Median value of owner-occupied homes in Thousand USDs"
   ]
  },
  {
   "cell_type": "code",
   "execution_count": null,
   "id": "61f609af",
   "metadata": {},
   "outputs": [],
   "source": [
    "df.describe()"
   ]
  },
  {
   "cell_type": "code",
   "execution_count": null,
   "id": "ea48d9d9",
   "metadata": {},
   "outputs": [],
   "source": [
    "df.hist(edgecolor='yellow', linewidth=1.2, figsize=(16,12))\n",
    "plt.show()"
   ]
  },
  {
   "cell_type": "code",
   "execution_count": null,
   "id": "ec0c7766",
   "metadata": {},
   "outputs": [],
   "source": [
    "sns.pairplot(df, height=1.5)\n",
    "plt.show()"
   ]
  },
  {
   "cell_type": "code",
   "execution_count": null,
   "id": "bfa41baa",
   "metadata": {},
   "outputs": [],
   "source": [
    "col_study = [ 'ZN', 'INDUS', 'NOX', 'RM']\n",
    "sns.pairplot(df[col_study], height=3)\n",
    "plt.show()"
   ]
  },
  {
   "cell_type": "code",
   "execution_count": null,
   "id": "278e48fa",
   "metadata": {},
   "outputs": [],
   "source": [
    "col_study2 = ['PTRATIO', 'B', 'LSTAT', 'MEDV']\n",
    "sns.pairplot(df[col_study2], height=3)\n",
    "plt.show()"
   ]
  },
  {
   "cell_type": "markdown",
   "id": "a2cc3742",
   "metadata": {},
   "source": [
    "## Correlation and visualizing selected Features"
   ]
  },
  {
   "cell_type": "code",
   "execution_count": null,
   "id": "f9f36f6d",
   "metadata": {},
   "outputs": [],
   "source": [
    "df.corr()"
   ]
  },
  {
   "cell_type": "code",
   "execution_count": null,
   "id": "e61eabae",
   "metadata": {},
   "outputs": [],
   "source": [
    "pd.options.display.float_format = '{:,.3f}'.format\n",
    "df.corr()"
   ]
  },
  {
   "cell_type": "code",
   "execution_count": null,
   "id": "3f584f5b",
   "metadata": {},
   "outputs": [],
   "source": [
    "plt.figure(figsize=(16,10))\n",
    "sns.heatmap(df.corr(), annot=True)\n",
    "plt.show()"
   ]
  },
  {
   "cell_type": "code",
   "execution_count": null,
   "id": "d3cebf82",
   "metadata": {},
   "outputs": [],
   "source": [
    "plt.figure(figsize=(16,10))\n",
    "sns.heatmap(df[['TAX', 'PTRATIO', 'LSTAT', 'MEDV']].corr(), annot=True)\n",
    "plt.show()"
   ]
  },
  {
   "cell_type": "code",
   "execution_count": null,
   "id": "5d2edade",
   "metadata": {},
   "outputs": [],
   "source": [
    "plt.figure(figsize=(16,10))\n",
    "sns.heatmap(df[['ZN', 'INDUS', 'NOX', 'AGE']].corr(), annot=True)\n",
    "plt.show()"
   ]
  },
  {
   "cell_type": "code",
   "execution_count": null,
   "id": "457abc39",
   "metadata": {},
   "outputs": [],
   "source": [
    "X = df['RM'].values.reshape(-1,1)\n",
    "y = df['MEDV'].values.reshape(-1,1)\n",
    "y.shape"
   ]
  },
  {
   "cell_type": "code",
   "execution_count": null,
   "id": "b62374e7",
   "metadata": {},
   "outputs": [],
   "source": [
    "plt.figure(figsize=(12,10))\n",
    "sns.regplot(X,y)\n",
    "plt.xlabel('avg num of rooms')\n",
    "plt.ylabel('Median house value in K')\n",
    "plt.show()"
   ]
  },
  {
   "cell_type": "code",
   "execution_count": null,
   "id": "d9a11184",
   "metadata": {},
   "outputs": [],
   "source": [
    "sns.jointplot(x='RM', y='MEDV', data=df, kind='reg', height=10)\n",
    "plt.show()"
   ]
  },
  {
   "cell_type": "code",
   "execution_count": null,
   "id": "33c0da88",
   "metadata": {},
   "outputs": [],
   "source": [
    "plt.figure(figsize=(12,10))\n",
    "x_fit = np.arange(3,11)\n",
    "X_fit = x_fit.reshape(-1,1)\n",
    "y_fit = model.predict(X_fit)\n",
    "plt.scatter(df['RM'], df['MEDV'])\n",
    "plt.plot(x_fit, y_fit)"
   ]
  }
 ],
 "metadata": {
  "kernelspec": {
   "display_name": "Python 3",
   "language": "python",
   "name": "python3"
  },
  "language_info": {
   "codemirror_mode": {
    "name": "ipython",
    "version": 3
   },
   "file_extension": ".py",
   "mimetype": "text/x-python",
   "name": "python",
   "nbconvert_exporter": "python",
   "pygments_lexer": "ipython3",
   "version": "3.8.8"
  }
 },
 "nbformat": 4,
 "nbformat_minor": 5
}
