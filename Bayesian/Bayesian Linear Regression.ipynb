{
 "cells": [
  {
   "cell_type": "markdown",
   "id": "6ed094ad",
   "metadata": {},
   "source": [
    "# Sources\n",
    "\n",
    "1. https://towardsdatascience.com/introduction-to-bayesian-linear-regression-e66e60791ea7\n",
    "\n",
    "\n",
    "2. https://towardsdatascience.com/bayesian-linear-regression-in-python-using-machine-learning-to-predict-student-grades-part-1-7d0ad817fca5\n",
    "\n"
   ]
  },
  {
   "cell_type": "code",
   "execution_count": null,
   "id": "84bf1e02",
   "metadata": {},
   "outputs": [],
   "source": []
  }
 ],
 "metadata": {
  "kernelspec": {
   "display_name": "Python 3",
   "language": "python",
   "name": "python3"
  },
  "language_info": {
   "codemirror_mode": {
    "name": "ipython",
    "version": 3
   },
   "file_extension": ".py",
   "mimetype": "text/x-python",
   "name": "python",
   "nbconvert_exporter": "python",
   "pygments_lexer": "ipython3",
   "version": "3.8.8"
  }
 },
 "nbformat": 4,
 "nbformat_minor": 5
}
