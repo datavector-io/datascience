{
 "cells": [
  {
   "cell_type": "markdown",
   "id": "3fdf706d",
   "metadata": {},
   "source": [
    "# Bayesian Optimization\n",
    "\n",
    "\n",
    "1. https://towardsdatascience.com/the-beauty-of-bayesian-optimization-explained-in-simple-terms-81f3ee13b10f\n",
    "\n",
    "\n",
    "2. https://towardsdatascience.com/an-introductory-example-of-bayesian-optimization-in-python-with-hyperopt-aae40fff4ff0\n",
    "\n",
    "\n",
    "3. https://towardsdatascience.com/bayesian-optimization-or-how-i-carved-boats-from-wood-examples-and-code-78b9c79b31e5\n",
    "\n",
    "\n",
    "4. https://towardsdatascience.com/a-conceptual-explanation-of-bayesian-model-based-hyperparameter-optimization-for-machine-learning-b8172278050f\n",
    "\n",
    "\n",
    "5. https://towardsdatascience.com/automated-machine-learning-hyperparameter-tuning-in-python-dfda59b72f8a\n",
    "\n",
    "\n",
    "6. https://medium.com/dataseries/how-facebook-uses-bayesian-optimization-to-conduct-better-experiments-in-machine-learning-models-97341c1ae7a6\n",
    "\n",
    "\n",
    "7. https://towardsdatascience.com/how-to-do-bayesian-hyper-parameter-tuning-on-a-blackbox-model-882009552c6d\n",
    "\n",
    "\n",
    "8. https://medium.datadriveninvestor.com/bayesian-optimization-f5ab0cc653a7\n",
    "\n",
    "\n",
    "9. https://towardsdatascience.com/bayesian-optimization-in-trading-77202ffed530"
   ]
  },
  {
   "cell_type": "code",
   "execution_count": null,
   "id": "5d82fb07",
   "metadata": {},
   "outputs": [],
   "source": []
  }
 ],
 "metadata": {
  "kernelspec": {
   "display_name": "Python 3",
   "language": "python",
   "name": "python3"
  },
  "language_info": {
   "codemirror_mode": {
    "name": "ipython",
    "version": 3
   },
   "file_extension": ".py",
   "mimetype": "text/x-python",
   "name": "python",
   "nbconvert_exporter": "python",
   "pygments_lexer": "ipython3",
   "version": "3.8.8"
  }
 },
 "nbformat": 4,
 "nbformat_minor": 5
}
