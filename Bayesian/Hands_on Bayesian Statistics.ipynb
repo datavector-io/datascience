{
 "cells": [
  {
   "cell_type": "markdown",
   "id": "96bbfeaa",
   "metadata": {},
   "source": [
    "# Sources\n",
    "\n",
    "1. https://towardsdatascience.com/hands-on-bayesian-statistics-with-python-pymc3-arviz-499db9a59501  Source at  https://github.com/susanli2016/Machine-Learning-with-Python/blob/master/Bayesian%20Statistics%20Python_PyMC3_ArviZ.ipynb )\n",
    "\n",
    "\n",
    "2. https://towardsdatascience.com/estimating-probabilities-with-bayesian-modeling-in-python-7144be007815\n"
   ]
  },
  {
   "cell_type": "code",
   "execution_count": null,
   "id": "407aa02f",
   "metadata": {},
   "outputs": [],
   "source": []
  }
 ],
 "metadata": {
  "kernelspec": {
   "display_name": "Python 3",
   "language": "python",
   "name": "python3"
  },
  "language_info": {
   "codemirror_mode": {
    "name": "ipython",
    "version": 3
   },
   "file_extension": ".py",
   "mimetype": "text/x-python",
   "name": "python",
   "nbconvert_exporter": "python",
   "pygments_lexer": "ipython3",
   "version": "3.8.8"
  }
 },
 "nbformat": 4,
 "nbformat_minor": 5
}
