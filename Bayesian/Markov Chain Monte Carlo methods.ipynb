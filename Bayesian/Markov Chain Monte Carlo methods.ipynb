{
 "cells": [
  {
   "cell_type": "markdown",
   "id": "57d800aa",
   "metadata": {},
   "source": [
    "# Sources\n",
    "\n",
    "1. https://towardsdatascience.com/monte-carlo-methods-made-simple-91758ba58dde\n",
    "\n",
    "\n",
    "2. https://towardsdatascience.com/markov-chain-monte-carlo-in-python-44f7e609be98\n",
    "\n",
    "\n",
    "3. https://towardsdatascience.com/a-zero-math-introduction-to-markov-chain-monte-carlo-methods-dcba889e0c50\n",
    "\n",
    "\n",
    "4. https://towardsdatascience.com/from-scratch-bayesian-inference-markov-chain-monte-carlo-and-metropolis-hastings-in-python-ef21a29e25a\n",
    "\n",
    "\n",
    "5. https://towardsdatascience.com/bayes-rule-applied-75965e4482ff\n",
    "\n",
    "\n",
    "6. https://towardsdatascience.com/how-to-use-monte-carlo-simulation-to-help-decision-making-a0a164bc8619"
   ]
  },
  {
   "cell_type": "code",
   "execution_count": null,
   "id": "9a22f6e5",
   "metadata": {},
   "outputs": [],
   "source": []
  }
 ],
 "metadata": {
  "kernelspec": {
   "display_name": "Python 3",
   "language": "python",
   "name": "python3"
  },
  "language_info": {
   "codemirror_mode": {
    "name": "ipython",
    "version": 3
   },
   "file_extension": ".py",
   "mimetype": "text/x-python",
   "name": "python",
   "nbconvert_exporter": "python",
   "pygments_lexer": "ipython3",
   "version": "3.8.8"
  }
 },
 "nbformat": 4,
 "nbformat_minor": 5
}
