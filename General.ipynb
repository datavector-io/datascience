{
 "cells": [
  {
   "cell_type": "markdown",
   "id": "bc70078e",
   "metadata": {},
   "source": [
    "\n",
    "1. https://towardsdatascience.com/the-actual-difference-between-statistics-and-machine-learning-64b49f07ea3\n",
    "\n",
    "\n",
    "2. https://cgsapsu.wordpress.com/2014/04/13/linear-does-not-mean-straight-line-translating-the-stats-language/\n",
    "\n",
    "\n",
    "3. http://brenocon.com/blog/2008/12/statistics-vs-machine-learning-fight/\n",
    "\n"
   ]
  }
 ],
 "metadata": {
  "kernelspec": {
   "display_name": "Python 3",
   "language": "python",
   "name": "python3"
  },
  "language_info": {
   "codemirror_mode": {
    "name": "ipython",
    "version": 3
   },
   "file_extension": ".py",
   "mimetype": "text/x-python",
   "name": "python",
   "nbconvert_exporter": "python",
   "pygments_lexer": "ipython3",
   "version": "3.8.8"
  }
 },
 "nbformat": 4,
 "nbformat_minor": 5
}
