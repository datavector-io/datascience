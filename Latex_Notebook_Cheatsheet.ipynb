{
 "cells": [
  {
   "cell_type": "markdown",
   "id": "3af277a0",
   "metadata": {},
   "source": [
    "Data Science Notebooks without math are lame.\n",
    "\n",
    "Thankfully Jupyter Notebooks support LatEx\n",
    "\n",
    "This cheatsheet is neither comprehensive nor complete. For now, it is only a placeholder. My plans are to grow it over time to be a most useful stuff in one place with cut and paste snapshots, but without explicitly spending much time in its development\n",
    "\n",
    "Here are some references:\n",
    "\n",
    "http://bebi103.caltech.edu.s3-website-us-east-1.amazonaws.com/2015/tutorials/t0c_intro_to_latex.html\n",
    "\n",
    "https://jupyter-notebook.readthedocs.io/en/stable/examples/Notebook/Typesetting%20Equations.html\n",
    "\n",
    "https://oeis.org/wiki/List_of_LaTeX_mathematical_symbols"
   ]
  },
  {
   "cell_type": "markdown",
   "id": "da84e792",
   "metadata": {},
   "source": [
    "Inline as follows \n",
    "Joint Probability is the probability ofntersection of two or more events. Written as $ P(A \\cap B) , P(A,B), P(A\\ and\\ B)$"
   ]
  },
  {
   "cell_type": "markdown",
   "id": "67b90d61",
   "metadata": {},
   "source": [
    "Block equation as follows\n",
    "\n",
    "\\begin{align*}\n",
    "\\text{good: } P(A \\cap B) =  P(B)\\,P(A \\mid B)\n",
    "\\end{align*}\n",
    "\n",
    "\\begin{align*}\n",
    "\\text{not good: } P(A \\cap B) =  P(B) P(A | B)\n",
    "\\end{align*}\n",
    "\n",
    "Multiline as follows. Presence of align* messes up *sometimes*. Just align\n",
    "\n",
    "\\begin{align}\n",
    "\\text{good: } P(A \\cap B) =  P(B)\\,P(A \\mid B) \\\\\n",
    "\\text{not good: } P(A \\cap B) =  P(B) P(A | B)\n",
    "\\end{align}"
   ]
  },
  {
   "cell_type": "markdown",
   "id": "314bcedb",
   "metadata": {},
   "source": [
    "Another example of multi line equations\n",
    "\\begin{align}\n",
    "\\dot{x} & = \\sigma(y-x) \\\\ \n",
    "\\dot{y} & = \\rho x - y - xz \\\\ \n",
    "\\dot{z} & = -\\beta z + xy\n",
    "\\end{align}"
   ]
  },
  {
   "cell_type": "markdown",
   "id": "45d7b6ad",
   "metadata": {},
   "source": [
    "Multi functions\n",
    "\\begin{align*}\n",
    "\\min_{x \\in R^{n}}\\ f(x)\\ subject\\ to\\  \\left\\{\\begin{array}{lll}\n",
    "                c_{i}(x)\\ = \\ 0,\\  i \\ \\in \\varepsilon, \\\\\n",
    "                c_{i}(x)\\ \\geq \\ 0,\\  i\\in \\iota \n",
    "            \\end{array}\\right.\n",
    "\\end{align*}"
   ]
  },
  {
   "cell_type": "markdown",
   "id": "708bb48b",
   "metadata": {},
   "source": [
    "Bolded equation\n",
    "\\begin{equation*},\n",
    "\\left( \\sum_{k=1}^n a_k b_k \\right)^2 \\leq \\left( \\sum_{k=1}^n a_k^2 \\right) \\left( \\sum_{k=1}^n b_k^2 \\right) \\end{equation*}"
   ]
  },
  {
   "cell_type": "markdown",
   "id": "ac618d18",
   "metadata": {},
   "source": [
    "Providing equation number on right\n",
    "\n",
    "\\begin{equation}\n",
    "\\begin{aligned}\n",
    "&x = 1 \\\\\n",
    "&y = 2 + 2x^2\n",
    "\\end{aligned}\n",
    "\\tag{fun system}\n",
    "\\end{equation}"
   ]
  },
  {
   "cell_type": "code",
   "execution_count": null,
   "id": "66687c27",
   "metadata": {},
   "outputs": [],
   "source": []
  }
 ],
 "metadata": {
  "kernelspec": {
   "display_name": "Python 3",
   "language": "python",
   "name": "python3"
  },
  "language_info": {
   "codemirror_mode": {
    "name": "ipython",
    "version": 3
   },
   "file_extension": ".py",
   "mimetype": "text/x-python",
   "name": "python",
   "nbconvert_exporter": "python",
   "pygments_lexer": "ipython3",
   "version": "3.8.8"
  }
 },
 "nbformat": 4,
 "nbformat_minor": 5
}
