{
 "cells": [
  {
   "cell_type": "code",
   "execution_count": null,
   "id": "c3a271c8",
   "metadata": {},
   "outputs": [],
   "source": [
    "import numpy as np\n",
    "import matplotlib.pyplot as plt\n",
    "from matplotlib.ticker import MaxNLocator\n",
    "from itertools import product"
   ]
  },
  {
   "cell_type": "markdown",
   "id": "3527e3e5",
   "metadata": {},
   "source": [
    "# 1. Introduction\n",
    "Considering a simple objective function f(x) = x² − 2x − 3 the first derivative of f is, ∇f(x) = 2x − 2."
   ]
  },
  {
   "cell_type": "code",
   "execution_count": null,
   "id": "d3eb420a",
   "metadata": {},
   "outputs": [],
   "source": [
    "def func(x):\n",
    "    return x**2 - 2*x - 3\n",
    "\n",
    "def fprime(x):\n",
    "    return 2*x - 2"
   ]
  },
  {
   "cell_type": "markdown",
   "id": "c77daa7f",
   "metadata": {},
   "source": [
    "We now define two functions to plot the following \n",
    "1. objective function \n",
    "2. path taken by x onto f during gradient descent"
   ]
  },
  {
   "cell_type": "code",
   "execution_count": null,
   "id": "b32fd086",
   "metadata": {},
   "outputs": [],
   "source": [
    "def plot_func(x0):\n",
    "    x = np.linspace(-5, 7, 100)\n",
    "    plt.plot(x, func(x))\n",
    "    plt.plot(x0, func(x0), 'ro')\n",
    "    plt.xlabel('$x$')\n",
    "    plt.ylabel('$f(x)$')\n",
    "    plt.title('Objective Function')\n",
    "\n",
    "def plot_path(xs, ys, x0):\n",
    "    plot_func(x0)\n",
    "    plt.plot(xs, ys, linestyle='--', marker='o', color='orange')\n",
    "    plt.plot(xs[-1], ys[-1], 'ro')"
   ]
  },
  {
   "cell_type": "code",
   "execution_count": null,
   "id": "c82f8b4e",
   "metadata": {},
   "outputs": [],
   "source": [
    "x0 = -4\n",
    "plot_func(x0)"
   ]
  },
  {
   "cell_type": "markdown",
   "id": "0f21569a",
   "metadata": {},
   "source": [
    "In diagram above, f has a minimum value at x = 1 [f(x) = -4].<br/> By starting at at x = -4 (indicated by red dot) we check if gradient descent can locate the local minimum x = 1.\n",
    "\n",
    "# 2. Simple gradient descent algorithm\n",
    "For every point xₖ in step k:\n",
    "1. Maintain the step length αₖ constant \n",
    "2. Set the direction pₖ to be the gradient value (steepest descent at xₖ)\n",
    "\n",
    "\n",
    "\\begin{align*}\n",
    "x_{k+1} = x_{k} - \\alpha_{k}p_{k}\n",
    "\\end{align*}\n",
    "\n",
    "Repeat until max iters run out or a specific significant digits of convergence is achieved"
   ]
  },
  {
   "cell_type": "code",
   "execution_count": null,
   "id": "47b306f4",
   "metadata": {},
   "outputs": [],
   "source": [
    "def simple_gradient_descent(func, fprime, x0, alpha, tol=1e-5, max_iter=1000):\n",
    "    # initialize x, f(x), and -f'(x)\n",
    "    xk = x0\n",
    "    fk = func(xk)\n",
    "    pk = fprime(xk)\n",
    "    \n",
    "    # initialize number of steps, save x and f(x)\n",
    "    num_iter = 0\n",
    "    curve_x = [xk]\n",
    "    curve_y = [fk]\n",
    "    \n",
    "    while abs(pk) > tol and num_iter < max_iter:\n",
    "        # calculate new x, f(x), and -f'(x)\n",
    "        xk = xk - alpha * pk\n",
    "        fk = func(xk)\n",
    "        pk = fprime(xk)\n",
    "        # increase number of steps by 1, save new x and f(x)\n",
    "        num_iter += 1\n",
    "        curve_x.append(xk)\n",
    "        curve_y.append(fk)\n",
    "\n",
    "    # print results\n",
    "    if num_iter == max_iter:\n",
    "        print('Gradient descent has not converged')\n",
    "    else:\n",
    "        print('Solution at:\\n  y = {:.4f}\\n  x = {:.4f}'.format(fk, xk))\n",
    "    \n",
    "    return curve_x, curve_y"
   ]
  },
  {
   "cell_type": "markdown",
   "id": "9901490f",
   "metadata": {},
   "source": [
    "# 3. Scenario 1: αₖ = 0.1"
   ]
  },
  {
   "cell_type": "code",
   "execution_count": null,
   "id": "1ab6e89d",
   "metadata": {},
   "outputs": [],
   "source": [
    "xs, ys = simple_gradient_descent(func, fprime, x0, alpha=0.1)\n",
    "plot_path(xs, ys, x0)"
   ]
  },
  {
   "cell_type": "markdown",
   "id": "056cd0ac",
   "metadata": {},
   "source": [
    "# 4. Scenario 2: αₖ = 0.9"
   ]
  },
  {
   "cell_type": "code",
   "execution_count": null,
   "id": "c734c9b5",
   "metadata": {},
   "outputs": [],
   "source": [
    "xs, ys = simple_gradient_descent(func, fprime, x0, alpha=0.9)\n",
    "plot_path(xs, ys, x0)"
   ]
  },
  {
   "cell_type": "markdown",
   "id": "751747a6",
   "metadata": {},
   "source": [
    "# 5. Scenario 3: αₖ = 1 × 10⁻⁴"
   ]
  },
  {
   "cell_type": "code",
   "execution_count": null,
   "id": "e8787842",
   "metadata": {},
   "outputs": [],
   "source": [
    "xs, ys = simple_gradient_descent(func, fprime, x0, alpha=1e-4)\n",
    "plot_path(xs, ys, x0)"
   ]
  },
  {
   "cell_type": "markdown",
   "id": "cd8937b0",
   "metadata": {},
   "source": [
    "# 6. Scenario 4: αₖ = 1.01"
   ]
  },
  {
   "cell_type": "code",
   "execution_count": null,
   "id": "ee4364bc",
   "metadata": {},
   "outputs": [],
   "source": [
    "xs, ys = simple_gradient_descent(func, fprime, x0, alpha=1.01)\n",
    "plot_path(xs, ys, x0)"
   ]
  },
  {
   "cell_type": "markdown",
   "id": "1446cd42",
   "metadata": {},
   "source": [
    "# 7. Observations about the four scenarios above\n",
    "1. First scenario converges with the direction steadily decreasing towards zero\n",
    "2. Second scenario also converges even though the learning path is oscillating around the solution due to the big step length\n",
    "3. Third scenario moves towards the solution. However, the step length is so small and number of iterations is exceeded before convergence maxed out. Increasing max iterations will solve the issue. However it will take much longer to arrive at the solution.\n",
    "4. Fourth scenario diverges due to the big step length"
   ]
  }
 ],
 "metadata": {
  "kernelspec": {
   "display_name": "Python 3",
   "language": "python",
   "name": "python3"
  },
  "language_info": {
   "codemirror_mode": {
    "name": "ipython",
    "version": 3
   },
   "file_extension": ".py",
   "mimetype": "text/x-python",
   "name": "python",
   "nbconvert_exporter": "python",
   "pygments_lexer": "ipython3",
   "version": "3.8.8"
  }
 },
 "nbformat": 4,
 "nbformat_minor": 5
}
