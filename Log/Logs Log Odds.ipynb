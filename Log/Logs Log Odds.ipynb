{
 "cells": [
  {
   "cell_type": "code",
   "execution_count": 1,
   "id": "8a95af9b",
   "metadata": {},
   "outputs": [],
   "source": [
    "import numpy as np\n",
    "import pandas as pd\n",
    "\n",
    "import matplotlib.pyplot as plt\n",
    "%matplotlib inline\n",
    "\n",
    "import seaborn as sns\n",
    "sns.set(color_codes=True)"
   ]
  },
  {
   "cell_type": "code",
   "execution_count": 9,
   "id": "d61dc3eb",
   "metadata": {},
   "outputs": [
    {
     "data": {
      "image/png": "[encoded data removed]",
      "text/plain": [
       "<Figure size 1152x720 with 2 Axes>"
      ]
     },
     "metadata": {
      "needs_background": "light"
     },
     "output_type": "display_data"
    }
   ],
   "source": [
    "data = { \n",
    "        \"Grndma's\":  1/8,\n",
    "        \"Grndpa's\":  1/4,\n",
    "        \"Shakey's\":   1/2,\n",
    "        \"Pepsi\":      1,\n",
    "        \"Intel\" :     2,\n",
    "        \"Alphabet\":   4,\n",
    "        \"Amazon\":     8\n",
    "        }\n",
    "df = pd.DataFrame.from_dict(data,orient='index',columns=['Revenue'])\n",
    "dg =pd.to_numeric(df['Revenue'])\n",
    "dc = pd.Series(dg.index.values.tolist()).to_frame('Company') \n",
    "dat = df.assign(Company=dc.values)\n",
    "\n",
    "data = dat.sort_values(by=['Revenue'])\n",
    " \n",
    "# plt.grid()\n",
    "#plt.figure()\n",
    "\n",
    "plt.figure(figsize=(16,10))\n",
    "plt.subplot(2,2,1)\n",
    "plt.scatter(data['Company'], data['Revenue'])\n",
    "\n",
    "plt.subplot(2,2,2)\n",
    "plt.scatter(data['Company'], data['Revenue'])\n",
    "plt.yscale(\"log\")\n",
    "plt.show()"
   ]
  },
  {
   "cell_type": "code",
   "execution_count": null,
   "id": "dfaf5ad8",
   "metadata": {},
   "outputs": [],
   "source": []
  }
 ],
 "metadata": {
  "kernelspec": {
   "display_name": "Python 3",
   "language": "python",
   "name": "python3"
  },
  "language_info": {
   "codemirror_mode": {
    "name": "ipython",
    "version": 3
   },
   "file_extension": ".py",
   "mimetype": "text/x-python",
   "name": "python",
   "nbconvert_exporter": "python",
   "pygments_lexer": "ipython3",
   "version": "3.8.8"
  }
 },
 "nbformat": 4,
 "nbformat_minor": 5
}
