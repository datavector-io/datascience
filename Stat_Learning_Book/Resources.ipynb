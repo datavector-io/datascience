{
 "cells": [
  {
   "cell_type": "markdown",
   "id": "3d165705",
   "metadata": {},
   "source": [
    "# Resources\n",
    "\n",
    "\n",
    "## Github source code Python\n",
    "\n",
    "1. https://github.com/JWarmenhoven/ISLR-python\n",
    "\n",
    "2. https://github.com/hardikkamboj/An-Introduction-to-Statistical-Learning\n",
    "\n",
    "3. https://github.com/alexandrasouly/ISLR-but-python\n",
    "\n",
    "\n",
    "## Course\n",
    "\n",
    "1. https://www.dataschool.io/15-hours-of-expert-machine-learning-videos/\n",
    "\n",
    "2. A summary of this book is available as a course by Stanford University on edX.\n",
    "\n",
    "https://learning.edx.org/course/course-v1:StanfordOnline+STATSX0001+1T2020/home\n",
    "\n",
    "You can enroll and watch the course for Free (If you have not used edX before, then during enrollment, you should select \"Audit this Course\" to watch it for free)\n",
    "Same is available on You tube, but some portions are cut off in Youtube\n",
    "\n",
    "\n",
    "## Review\n",
    "\n",
    "1. https://towardsdatascience.com/islr-review-an-ideal-textbook-to-start-your-ml-journey-7b548ba8977f\n",
    "\n",
    "\n"
   ]
  },
  {
   "cell_type": "code",
   "execution_count": null,
   "id": "b14488ae",
   "metadata": {},
   "outputs": [],
   "source": []
  }
 ],
 "metadata": {
  "kernelspec": {
   "display_name": "Python 3",
   "language": "python",
   "name": "python3"
  },
  "language_info": {
   "codemirror_mode": {
    "name": "ipython",
    "version": 3
   },
   "file_extension": ".py",
   "mimetype": "text/x-python",
   "name": "python",
   "nbconvert_exporter": "python",
   "pygments_lexer": "ipython3",
   "version": "3.8.8"
  }
 },
 "nbformat": 4,
 "nbformat_minor": 5
}
